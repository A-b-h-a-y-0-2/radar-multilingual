{
 "cells": [
  {
   "cell_type": "code",
   "execution_count": 56,
   "metadata": {},
   "outputs": [],
   "source": [
    "import csv \n",
    "import numpy as np"
   ]
  },
  {
   "cell_type": "code",
   "execution_count": 57,
   "metadata": {},
   "outputs": [],
   "source": [
    "all = []\n",
    "human_de =[]\n",
    "human_de_tr = []\n",
    "human_fr = []\n",
    "human_fr_tr =[]\n",
    "human_it = []\n",
    "human_it_tr =[]\n",
    "ai_de = []\n",
    "ai_de_tr = []\n",
    "ai_fr = []\n",
    "ai_fr_tr = []\n",
    "ai_it = []\n",
    "ai_it_tr = []\n",
    "\n",
    "\n",
    "with open('logp_human_de.csv','r') as f:\n",
    "    reader = csv.reader(f)\n",
    "    for row in reader:\n",
    "        human_de.append(float(row[0]))\n",
    "        all.append(float(row[0]))\n",
    "with open('logp_human_it.csv','r') as f:\n",
    "    reader = csv.reader(f) \n",
    "    for row in reader:\n",
    "        human_it.append(float(row[0]))\n",
    "        all.append(float(row[0]))\n",
    "with open('logp_human_fr.csv','r') as f:\n",
    "    reader = csv.reader(f) \n",
    "    for row in reader:\n",
    "        human_fr.append(float(row[0]))\n",
    "        all.append(float(row[0]))\n",
    "with open('logp_human_de_tr.csv','r') as f:\n",
    "    reader = csv.reader(f) \n",
    "    for row in reader:\n",
    "        human_de_tr.append(float(row[0]))\n",
    "        all.append(float(row[0]))\n",
    "with open('logp_human_it_tr.csv','r') as f:\n",
    "    reader = csv.reader(f) \n",
    "    for row in reader:\n",
    "        human_it_tr.append(float(row[0]))\n",
    "        all.append(float(row[0]))\n",
    "with open('logp_human_fr_tr.csv','r') as f:\n",
    "    reader = csv.reader(f) \n",
    "    for row in reader:\n",
    "        human_fr_tr.append(float(row[0]))\n",
    "        all.append(float(row[0]))\n",
    "with open('logp_ai_de.csv','r') as f:\n",
    "    reader = csv.reader(f) \n",
    "    for row in reader:\n",
    "        ai_de.append(float(row[0]))\n",
    "        all.append(float(row[0]))\n",
    "with open('logp_ai_it.csv','r') as f:\n",
    "    reader = csv.reader(f) \n",
    "    for row in reader:\n",
    "        ai_it.append(float(row[0]))\n",
    "        all.append(float(row[0]))\n",
    "with open('logp_ai_fr.csv','r') as f:\n",
    "    reader = csv.reader(f)\n",
    "    for row in reader:\n",
    "        ai_fr.append(float(row[0]))\n",
    "        all.append(float(row[0]))\n",
    "with open('logp_ai_de_tr.csv','r') as f:\n",
    "    reader = csv.reader(f)\n",
    "    for row in reader:\n",
    "        ai_de_tr.append(float(row[0]))\n",
    "        all.append(float(row[0]))\n",
    "with open('logp_ai_it_tr.csv','r') as f:\n",
    "    reader = csv.reader(f)\n",
    "    for row in reader:\n",
    "        ai_it_tr.append(float(row[0]))\n",
    "        all.append(float(row[0]))\n",
    "with open('logp_ai_fr_tr.csv','r') as f:\n",
    "    reader = csv.reader(f)\n",
    "    for row in reader:\n",
    "        ai_fr_tr.append(float(row[0]))\n",
    "        all.append(float(row[0]))"
   ]
  },
  {
   "cell_type": "code",
   "execution_count": 58,
   "metadata": {},
   "outputs": [
    {
     "data": {
      "text/html": [
       "<style>#sk-container-id-2 {\n",
       "  /* Definition of color scheme common for light and dark mode */\n",
       "  --sklearn-color-text: black;\n",
       "  --sklearn-color-line: gray;\n",
       "  /* Definition of color scheme for unfitted estimators */\n",
       "  --sklearn-color-unfitted-level-0: #fff5e6;\n",
       "  --sklearn-color-unfitted-level-1: #f6e4d2;\n",
       "  --sklearn-color-unfitted-level-2: #ffe0b3;\n",
       "  --sklearn-color-unfitted-level-3: chocolate;\n",
       "  /* Definition of color scheme for fitted estimators */\n",
       "  --sklearn-color-fitted-level-0: #f0f8ff;\n",
       "  --sklearn-color-fitted-level-1: #d4ebff;\n",
       "  --sklearn-color-fitted-level-2: #b3dbfd;\n",
       "  --sklearn-color-fitted-level-3: cornflowerblue;\n",
       "\n",
       "  /* Specific color for light theme */\n",
       "  --sklearn-color-text-on-default-background: var(--sg-text-color, var(--theme-code-foreground, var(--jp-content-font-color1, black)));\n",
       "  --sklearn-color-background: var(--sg-background-color, var(--theme-background, var(--jp-layout-color0, white)));\n",
       "  --sklearn-color-border-box: var(--sg-text-color, var(--theme-code-foreground, var(--jp-content-font-color1, black)));\n",
       "  --sklearn-color-icon: #696969;\n",
       "\n",
       "  @media (prefers-color-scheme: dark) {\n",
       "    /* Redefinition of color scheme for dark theme */\n",
       "    --sklearn-color-text-on-default-background: var(--sg-text-color, var(--theme-code-foreground, var(--jp-content-font-color1, white)));\n",
       "    --sklearn-color-background: var(--sg-background-color, var(--theme-background, var(--jp-layout-color0, #111)));\n",
       "    --sklearn-color-border-box: var(--sg-text-color, var(--theme-code-foreground, var(--jp-content-font-color1, white)));\n",
       "    --sklearn-color-icon: #878787;\n",
       "  }\n",
       "}\n",
       "\n",
       "#sk-container-id-2 {\n",
       "  color: var(--sklearn-color-text);\n",
       "}\n",
       "\n",
       "#sk-container-id-2 pre {\n",
       "  padding: 0;\n",
       "}\n",
       "\n",
       "#sk-container-id-2 input.sk-hidden--visually {\n",
       "  border: 0;\n",
       "  clip: rect(1px 1px 1px 1px);\n",
       "  clip: rect(1px, 1px, 1px, 1px);\n",
       "  height: 1px;\n",
       "  margin: -1px;\n",
       "  overflow: hidden;\n",
       "  padding: 0;\n",
       "  position: absolute;\n",
       "  width: 1px;\n",
       "}\n",
       "\n",
       "#sk-container-id-2 div.sk-dashed-wrapped {\n",
       "  border: 1px dashed var(--sklearn-color-line);\n",
       "  margin: 0 0.4em 0.5em 0.4em;\n",
       "  box-sizing: border-box;\n",
       "  padding-bottom: 0.4em;\n",
       "  background-color: var(--sklearn-color-background);\n",
       "}\n",
       "\n",
       "#sk-container-id-2 div.sk-container {\n",
       "  /* jupyter's `normalize.less` sets `[hidden] { display: none; }`\n",
       "     but bootstrap.min.css set `[hidden] { display: none !important; }`\n",
       "     so we also need the `!important` here to be able to override the\n",
       "     default hidden behavior on the sphinx rendered scikit-learn.org.\n",
       "     See: https://github.com/scikit-learn/scikit-learn/issues/21755 */\n",
       "  display: inline-block !important;\n",
       "  position: relative;\n",
       "}\n",
       "\n",
       "#sk-container-id-2 div.sk-text-repr-fallback {\n",
       "  display: none;\n",
       "}\n",
       "\n",
       "div.sk-parallel-item,\n",
       "div.sk-serial,\n",
       "div.sk-item {\n",
       "  /* draw centered vertical line to link estimators */\n",
       "  background-image: linear-gradient(var(--sklearn-color-text-on-default-background), var(--sklearn-color-text-on-default-background));\n",
       "  background-size: 2px 100%;\n",
       "  background-repeat: no-repeat;\n",
       "  background-position: center center;\n",
       "}\n",
       "\n",
       "/* Parallel-specific style estimator block */\n",
       "\n",
       "#sk-container-id-2 div.sk-parallel-item::after {\n",
       "  content: \"\";\n",
       "  width: 100%;\n",
       "  border-bottom: 2px solid var(--sklearn-color-text-on-default-background);\n",
       "  flex-grow: 1;\n",
       "}\n",
       "\n",
       "#sk-container-id-2 div.sk-parallel {\n",
       "  display: flex;\n",
       "  align-items: stretch;\n",
       "  justify-content: center;\n",
       "  background-color: var(--sklearn-color-background);\n",
       "  position: relative;\n",
       "}\n",
       "\n",
       "#sk-container-id-2 div.sk-parallel-item {\n",
       "  display: flex;\n",
       "  flex-direction: column;\n",
       "}\n",
       "\n",
       "#sk-container-id-2 div.sk-parallel-item:first-child::after {\n",
       "  align-self: flex-end;\n",
       "  width: 50%;\n",
       "}\n",
       "\n",
       "#sk-container-id-2 div.sk-parallel-item:last-child::after {\n",
       "  align-self: flex-start;\n",
       "  width: 50%;\n",
       "}\n",
       "\n",
       "#sk-container-id-2 div.sk-parallel-item:only-child::after {\n",
       "  width: 0;\n",
       "}\n",
       "\n",
       "/* Serial-specific style estimator block */\n",
       "\n",
       "#sk-container-id-2 div.sk-serial {\n",
       "  display: flex;\n",
       "  flex-direction: column;\n",
       "  align-items: center;\n",
       "  background-color: var(--sklearn-color-background);\n",
       "  padding-right: 1em;\n",
       "  padding-left: 1em;\n",
       "}\n",
       "\n",
       "\n",
       "/* Toggleable style: style used for estimator/Pipeline/ColumnTransformer box that is\n",
       "clickable and can be expanded/collapsed.\n",
       "- Pipeline and ColumnTransformer use this feature and define the default style\n",
       "- Estimators will overwrite some part of the style using the `sk-estimator` class\n",
       "*/\n",
       "\n",
       "/* Pipeline and ColumnTransformer style (default) */\n",
       "\n",
       "#sk-container-id-2 div.sk-toggleable {\n",
       "  /* Default theme specific background. It is overwritten whether we have a\n",
       "  specific estimator or a Pipeline/ColumnTransformer */\n",
       "  background-color: var(--sklearn-color-background);\n",
       "}\n",
       "\n",
       "/* Toggleable label */\n",
       "#sk-container-id-2 label.sk-toggleable__label {\n",
       "  cursor: pointer;\n",
       "  display: block;\n",
       "  width: 100%;\n",
       "  margin-bottom: 0;\n",
       "  padding: 0.5em;\n",
       "  box-sizing: border-box;\n",
       "  text-align: center;\n",
       "}\n",
       "\n",
       "#sk-container-id-2 label.sk-toggleable__label-arrow:before {\n",
       "  /* Arrow on the left of the label */\n",
       "  content: \"▸\";\n",
       "  float: left;\n",
       "  margin-right: 0.25em;\n",
       "  color: var(--sklearn-color-icon);\n",
       "}\n",
       "\n",
       "#sk-container-id-2 label.sk-toggleable__label-arrow:hover:before {\n",
       "  color: var(--sklearn-color-text);\n",
       "}\n",
       "\n",
       "/* Toggleable content - dropdown */\n",
       "\n",
       "#sk-container-id-2 div.sk-toggleable__content {\n",
       "  max-height: 0;\n",
       "  max-width: 0;\n",
       "  overflow: hidden;\n",
       "  text-align: left;\n",
       "  /* unfitted */\n",
       "  background-color: var(--sklearn-color-unfitted-level-0);\n",
       "}\n",
       "\n",
       "#sk-container-id-2 div.sk-toggleable__content.fitted {\n",
       "  /* fitted */\n",
       "  background-color: var(--sklearn-color-fitted-level-0);\n",
       "}\n",
       "\n",
       "#sk-container-id-2 div.sk-toggleable__content pre {\n",
       "  margin: 0.2em;\n",
       "  border-radius: 0.25em;\n",
       "  color: var(--sklearn-color-text);\n",
       "  /* unfitted */\n",
       "  background-color: var(--sklearn-color-unfitted-level-0);\n",
       "}\n",
       "\n",
       "#sk-container-id-2 div.sk-toggleable__content.fitted pre {\n",
       "  /* unfitted */\n",
       "  background-color: var(--sklearn-color-fitted-level-0);\n",
       "}\n",
       "\n",
       "#sk-container-id-2 input.sk-toggleable__control:checked~div.sk-toggleable__content {\n",
       "  /* Expand drop-down */\n",
       "  max-height: 200px;\n",
       "  max-width: 100%;\n",
       "  overflow: auto;\n",
       "}\n",
       "\n",
       "#sk-container-id-2 input.sk-toggleable__control:checked~label.sk-toggleable__label-arrow:before {\n",
       "  content: \"▾\";\n",
       "}\n",
       "\n",
       "/* Pipeline/ColumnTransformer-specific style */\n",
       "\n",
       "#sk-container-id-2 div.sk-label input.sk-toggleable__control:checked~label.sk-toggleable__label {\n",
       "  color: var(--sklearn-color-text);\n",
       "  background-color: var(--sklearn-color-unfitted-level-2);\n",
       "}\n",
       "\n",
       "#sk-container-id-2 div.sk-label.fitted input.sk-toggleable__control:checked~label.sk-toggleable__label {\n",
       "  background-color: var(--sklearn-color-fitted-level-2);\n",
       "}\n",
       "\n",
       "/* Estimator-specific style */\n",
       "\n",
       "/* Colorize estimator box */\n",
       "#sk-container-id-2 div.sk-estimator input.sk-toggleable__control:checked~label.sk-toggleable__label {\n",
       "  /* unfitted */\n",
       "  background-color: var(--sklearn-color-unfitted-level-2);\n",
       "}\n",
       "\n",
       "#sk-container-id-2 div.sk-estimator.fitted input.sk-toggleable__control:checked~label.sk-toggleable__label {\n",
       "  /* fitted */\n",
       "  background-color: var(--sklearn-color-fitted-level-2);\n",
       "}\n",
       "\n",
       "#sk-container-id-2 div.sk-label label.sk-toggleable__label,\n",
       "#sk-container-id-2 div.sk-label label {\n",
       "  /* The background is the default theme color */\n",
       "  color: var(--sklearn-color-text-on-default-background);\n",
       "}\n",
       "\n",
       "/* On hover, darken the color of the background */\n",
       "#sk-container-id-2 div.sk-label:hover label.sk-toggleable__label {\n",
       "  color: var(--sklearn-color-text);\n",
       "  background-color: var(--sklearn-color-unfitted-level-2);\n",
       "}\n",
       "\n",
       "/* Label box, darken color on hover, fitted */\n",
       "#sk-container-id-2 div.sk-label.fitted:hover label.sk-toggleable__label.fitted {\n",
       "  color: var(--sklearn-color-text);\n",
       "  background-color: var(--sklearn-color-fitted-level-2);\n",
       "}\n",
       "\n",
       "/* Estimator label */\n",
       "\n",
       "#sk-container-id-2 div.sk-label label {\n",
       "  font-family: monospace;\n",
       "  font-weight: bold;\n",
       "  display: inline-block;\n",
       "  line-height: 1.2em;\n",
       "}\n",
       "\n",
       "#sk-container-id-2 div.sk-label-container {\n",
       "  text-align: center;\n",
       "}\n",
       "\n",
       "/* Estimator-specific */\n",
       "#sk-container-id-2 div.sk-estimator {\n",
       "  font-family: monospace;\n",
       "  border: 1px dotted var(--sklearn-color-border-box);\n",
       "  border-radius: 0.25em;\n",
       "  box-sizing: border-box;\n",
       "  margin-bottom: 0.5em;\n",
       "  /* unfitted */\n",
       "  background-color: var(--sklearn-color-unfitted-level-0);\n",
       "}\n",
       "\n",
       "#sk-container-id-2 div.sk-estimator.fitted {\n",
       "  /* fitted */\n",
       "  background-color: var(--sklearn-color-fitted-level-0);\n",
       "}\n",
       "\n",
       "/* on hover */\n",
       "#sk-container-id-2 div.sk-estimator:hover {\n",
       "  /* unfitted */\n",
       "  background-color: var(--sklearn-color-unfitted-level-2);\n",
       "}\n",
       "\n",
       "#sk-container-id-2 div.sk-estimator.fitted:hover {\n",
       "  /* fitted */\n",
       "  background-color: var(--sklearn-color-fitted-level-2);\n",
       "}\n",
       "\n",
       "/* Specification for estimator info (e.g. \"i\" and \"?\") */\n",
       "\n",
       "/* Common style for \"i\" and \"?\" */\n",
       "\n",
       ".sk-estimator-doc-link,\n",
       "a:link.sk-estimator-doc-link,\n",
       "a:visited.sk-estimator-doc-link {\n",
       "  float: right;\n",
       "  font-size: smaller;\n",
       "  line-height: 1em;\n",
       "  font-family: monospace;\n",
       "  background-color: var(--sklearn-color-background);\n",
       "  border-radius: 1em;\n",
       "  height: 1em;\n",
       "  width: 1em;\n",
       "  text-decoration: none !important;\n",
       "  margin-left: 1ex;\n",
       "  /* unfitted */\n",
       "  border: var(--sklearn-color-unfitted-level-1) 1pt solid;\n",
       "  color: var(--sklearn-color-unfitted-level-1);\n",
       "}\n",
       "\n",
       ".sk-estimator-doc-link.fitted,\n",
       "a:link.sk-estimator-doc-link.fitted,\n",
       "a:visited.sk-estimator-doc-link.fitted {\n",
       "  /* fitted */\n",
       "  border: var(--sklearn-color-fitted-level-1) 1pt solid;\n",
       "  color: var(--sklearn-color-fitted-level-1);\n",
       "}\n",
       "\n",
       "/* On hover */\n",
       "div.sk-estimator:hover .sk-estimator-doc-link:hover,\n",
       ".sk-estimator-doc-link:hover,\n",
       "div.sk-label-container:hover .sk-estimator-doc-link:hover,\n",
       ".sk-estimator-doc-link:hover {\n",
       "  /* unfitted */\n",
       "  background-color: var(--sklearn-color-unfitted-level-3);\n",
       "  color: var(--sklearn-color-background);\n",
       "  text-decoration: none;\n",
       "}\n",
       "\n",
       "div.sk-estimator.fitted:hover .sk-estimator-doc-link.fitted:hover,\n",
       ".sk-estimator-doc-link.fitted:hover,\n",
       "div.sk-label-container:hover .sk-estimator-doc-link.fitted:hover,\n",
       ".sk-estimator-doc-link.fitted:hover {\n",
       "  /* fitted */\n",
       "  background-color: var(--sklearn-color-fitted-level-3);\n",
       "  color: var(--sklearn-color-background);\n",
       "  text-decoration: none;\n",
       "}\n",
       "\n",
       "/* Span, style for the box shown on hovering the info icon */\n",
       ".sk-estimator-doc-link span {\n",
       "  display: none;\n",
       "  z-index: 9999;\n",
       "  position: relative;\n",
       "  font-weight: normal;\n",
       "  right: .2ex;\n",
       "  padding: .5ex;\n",
       "  margin: .5ex;\n",
       "  width: min-content;\n",
       "  min-width: 20ex;\n",
       "  max-width: 50ex;\n",
       "  color: var(--sklearn-color-text);\n",
       "  box-shadow: 2pt 2pt 4pt #999;\n",
       "  /* unfitted */\n",
       "  background: var(--sklearn-color-unfitted-level-0);\n",
       "  border: .5pt solid var(--sklearn-color-unfitted-level-3);\n",
       "}\n",
       "\n",
       ".sk-estimator-doc-link.fitted span {\n",
       "  /* fitted */\n",
       "  background: var(--sklearn-color-fitted-level-0);\n",
       "  border: var(--sklearn-color-fitted-level-3);\n",
       "}\n",
       "\n",
       ".sk-estimator-doc-link:hover span {\n",
       "  display: block;\n",
       "}\n",
       "\n",
       "/* \"?\"-specific style due to the `<a>` HTML tag */\n",
       "\n",
       "#sk-container-id-2 a.estimator_doc_link {\n",
       "  float: right;\n",
       "  font-size: 1rem;\n",
       "  line-height: 1em;\n",
       "  font-family: monospace;\n",
       "  background-color: var(--sklearn-color-background);\n",
       "  border-radius: 1rem;\n",
       "  height: 1rem;\n",
       "  width: 1rem;\n",
       "  text-decoration: none;\n",
       "  /* unfitted */\n",
       "  color: var(--sklearn-color-unfitted-level-1);\n",
       "  border: var(--sklearn-color-unfitted-level-1) 1pt solid;\n",
       "}\n",
       "\n",
       "#sk-container-id-2 a.estimator_doc_link.fitted {\n",
       "  /* fitted */\n",
       "  border: var(--sklearn-color-fitted-level-1) 1pt solid;\n",
       "  color: var(--sklearn-color-fitted-level-1);\n",
       "}\n",
       "\n",
       "/* On hover */\n",
       "#sk-container-id-2 a.estimator_doc_link:hover {\n",
       "  /* unfitted */\n",
       "  background-color: var(--sklearn-color-unfitted-level-3);\n",
       "  color: var(--sklearn-color-background);\n",
       "  text-decoration: none;\n",
       "}\n",
       "\n",
       "#sk-container-id-2 a.estimator_doc_link.fitted:hover {\n",
       "  /* fitted */\n",
       "  background-color: var(--sklearn-color-fitted-level-3);\n",
       "}\n",
       "</style><div id=\"sk-container-id-2\" class=\"sk-top-container\"><div class=\"sk-text-repr-fallback\"><pre>KMeans(n_clusters=2)</pre><b>In a Jupyter environment, please rerun this cell to show the HTML representation or trust the notebook. <br />On GitHub, the HTML representation is unable to render, please try loading this page with nbviewer.org.</b></div><div class=\"sk-container\" hidden><div class=\"sk-item\"><div class=\"sk-estimator fitted sk-toggleable\"><input class=\"sk-toggleable__control sk-hidden--visually\" id=\"sk-estimator-id-2\" type=\"checkbox\" checked><label for=\"sk-estimator-id-2\" class=\"sk-toggleable__label fitted sk-toggleable__label-arrow fitted\">&nbsp;&nbsp;KMeans<a class=\"sk-estimator-doc-link fitted\" rel=\"noreferrer\" target=\"_blank\" href=\"https://scikit-learn.org/1.4/modules/generated/sklearn.cluster.KMeans.html\">?<span>Documentation for KMeans</span></a><span class=\"sk-estimator-doc-link fitted\">i<span>Fitted</span></span></label><div class=\"sk-toggleable__content fitted\"><pre>KMeans(n_clusters=2)</pre></div> </div></div></div></div>"
      ],
      "text/plain": [
       "KMeans(n_clusters=2)"
      ]
     },
     "execution_count": 58,
     "metadata": {},
     "output_type": "execute_result"
    }
   ],
   "source": [
    "from sklearn.cluster import KMeans\n",
    "model = KMeans(n_clusters=2)\n",
    "all = np.array(all)\n",
    "all = all.reshape(-1,1)\n",
    "model.fit(all)"
   ]
  },
  {
   "cell_type": "code",
   "execution_count": 59,
   "metadata": {},
   "outputs": [],
   "source": [
    "human_de = np.array(human_de)\n",
    "human_de_tr = np.array(human_de_tr)\n",
    "human_fr = np.array(human_fr)\n",
    "human_fr_tr = np.array(human_fr_tr)\n",
    "human_it = np.array(human_it)\n",
    "human_it_tr = np.array(human_it_tr)\n",
    "ai_de = np.array(ai_de)\n",
    "ai_de_tr = np.array(ai_de_tr)\n",
    "ai_fr = np.array(ai_fr)\n",
    "ai_fr_tr = np.array(ai_fr_tr)\n",
    "ai_it = np.array(ai_it)\n",
    "ai_it_tr = np.array(ai_it_tr)"
   ]
  },
  {
   "cell_type": "code",
   "execution_count": 60,
   "metadata": {},
   "outputs": [],
   "source": [
    "human_de = human_de.reshape(-1,1)\n",
    "human_de_tr = human_de_tr.reshape(-1,1)\n",
    "human_fr = human_fr.reshape(-1,1)\n",
    "human_fr_tr = human_fr_tr.reshape(-1,1)\n",
    "human_it = human_it.reshape(-1,1)\n",
    "human_it_tr = human_it_tr.reshape(-1,1)\n",
    "ai_de = ai_de.reshape(-1,1)\n",
    "ai_de_tr = ai_de_tr.reshape(-1,1)\n",
    "ai_fr = ai_fr.reshape(-1,1)\n",
    "ai_fr_tr = ai_fr_tr.reshape(-1,1)\n",
    "ai_it = ai_it.reshape(-1,1)\n",
    "ai_it_tr = ai_it_tr.reshape(-1,1)"
   ]
  },
  {
   "cell_type": "code",
   "execution_count": 61,
   "metadata": {},
   "outputs": [],
   "source": [
    "from sklearn.metrics import roc_curve, precision_recall_curve, auc\n",
    "def get_roc_metrics(human_preds, ai_preds):\n",
    "    # human_preds is the ai-generated probabiities of human-text\n",
    "    # ai_preds is the ai-generated probabiities of human-text\n",
    "    sum = []\n",
    "    for text in human_preds:\n",
    "        sum.append(text)\n",
    "    for text in ai_preds:\n",
    "        sum.append(text)\n",
    "    fpr, tpr, _ = roc_curve([0] * len(human_preds) + [1] * len(ai_preds), sum,pos_label=1)\n",
    "    roc_auc = auc(fpr, tpr)\n",
    "    return fpr.tolist(), tpr.tolist(), float(roc_auc)"
   ]
  },
  {
   "cell_type": "code",
   "execution_count": 62,
   "metadata": {},
   "outputs": [],
   "source": [
    "def accruacy_human(preds):\n",
    "    incorrect = 0\n",
    "    correct = 0\n",
    "    for i in preds:\n",
    "        if i == 1:\n",
    "            incorrect+=1\n",
    "        else :\n",
    "            correct+=1\n",
    "    print(\"The False positive rate (Human as AI) : \", incorrect/len(preds))\n",
    "    print(\"The True Negative rate (Human as Human) : \", correct/len(preds))\n",
    "\n",
    "def accruacy_ai(preds):\n",
    "    correct = 0\n",
    "    incorrect = 0\n",
    "    for i in preds:\n",
    "        if i == 1:\n",
    "            correct+=1\n",
    "        else :\n",
    "            incorrect+=1\n",
    "    print(\"The true Positive rate ( AI as AI) : \", correct/len(preds))\n",
    "    print(\"The False Negative rate (AI as Human) : \", incorrect/len(preds))"
   ]
  },
  {
   "cell_type": "markdown",
   "metadata": {},
   "source": [
    "### Results for German"
   ]
  },
  {
   "cell_type": "code",
   "execution_count": 63,
   "metadata": {},
   "outputs": [],
   "source": [
    "human_de = model.predict(human_de)\n",
    "human_de_tr = model.predict(human_de_tr)\n",
    "ai_de = model.predict(ai_de)\n",
    "ai_de_tr = model.predict(ai_de_tr)"
   ]
  },
  {
   "cell_type": "code",
   "execution_count": 64,
   "metadata": {},
   "outputs": [
    {
     "name": "stdout",
     "output_type": "stream",
     "text": [
      "([0.0, 0.25, 1.0], [0.0, 0.57, 1.0], 0.6599999999999999)\n",
      "0.6599999999999999\n"
     ]
    }
   ],
   "source": [
    "res = get_roc_metrics(human_de, ai_de)\n",
    "print(res)\n",
    "print(res[2])"
   ]
  },
  {
   "cell_type": "code",
   "execution_count": 65,
   "metadata": {},
   "outputs": [
    {
     "name": "stdout",
     "output_type": "stream",
     "text": [
      "([0.0, 0.557, 1.0], [0.0, 0.855, 1.0], 0.6489999999999999)\n",
      "0.6489999999999999\n"
     ]
    }
   ],
   "source": [
    "res = get_roc_metrics(human_de_tr, ai_de_tr)\n",
    "print(res)\n",
    "print(res[2])"
   ]
  },
  {
   "cell_type": "code",
   "execution_count": 66,
   "metadata": {},
   "outputs": [
    {
     "name": "stdout",
     "output_type": "stream",
     "text": [
      "The False positive rate (Human as AI) :  0.25\n",
      "The True Negative rate (Human as Human) :  0.75\n"
     ]
    }
   ],
   "source": [
    "accruacy_human(human_de)"
   ]
  },
  {
   "cell_type": "code",
   "execution_count": 67,
   "metadata": {},
   "outputs": [
    {
     "name": "stdout",
     "output_type": "stream",
     "text": [
      "The true Positive rate ( AI as AI) :  0.57\n",
      "The False Negative rate (AI as Human) :  0.43\n"
     ]
    }
   ],
   "source": [
    "accruacy_ai(ai_de)"
   ]
  },
  {
   "cell_type": "code",
   "execution_count": 68,
   "metadata": {},
   "outputs": [
    {
     "name": "stdout",
     "output_type": "stream",
     "text": [
      "The False positive rate (Human as AI) :  0.557\n",
      "The True Negative rate (Human as Human) :  0.443\n"
     ]
    }
   ],
   "source": [
    "accruacy_human(human_de_tr)"
   ]
  },
  {
   "cell_type": "code",
   "execution_count": 69,
   "metadata": {},
   "outputs": [
    {
     "name": "stdout",
     "output_type": "stream",
     "text": [
      "The true Positive rate ( AI as AI) :  0.855\n",
      "The False Negative rate (AI as Human) :  0.145\n"
     ]
    }
   ],
   "source": [
    "accruacy_ai(ai_de_tr)"
   ]
  },
  {
   "cell_type": "markdown",
   "metadata": {},
   "source": [
    "### Results for French"
   ]
  },
  {
   "cell_type": "code",
   "execution_count": 70,
   "metadata": {},
   "outputs": [],
   "source": [
    "human_fr = model.predict(human_fr)\n",
    "human_fr_tr = model.predict(human_fr_tr)\n",
    "ai_fr = model.predict(ai_fr)\n",
    "ai_fr_tr = model.predict(ai_fr_tr)"
   ]
  },
  {
   "cell_type": "code",
   "execution_count": 71,
   "metadata": {},
   "outputs": [
    {
     "name": "stdout",
     "output_type": "stream",
     "text": [
      "([0.0, 0.263, 1.0], [0.0, 0.613, 1.0], 0.6749999999999999)\n",
      "0.6749999999999999\n"
     ]
    }
   ],
   "source": [
    "res = get_roc_metrics(human_fr, ai_fr)\n",
    "print(res)\n",
    "print(res[2])"
   ]
  },
  {
   "cell_type": "code",
   "execution_count": 72,
   "metadata": {},
   "outputs": [
    {
     "name": "stdout",
     "output_type": "stream",
     "text": [
      "([0.0, 0.5725725725725725, 1.0], [0.0, 0.885, 1.0], 0.6562137137137137)\n",
      "0.6562137137137137\n"
     ]
    }
   ],
   "source": [
    "res = get_roc_metrics(human_fr_tr, ai_fr_tr)\n",
    "print(res)\n",
    "print(res[2])"
   ]
  },
  {
   "cell_type": "code",
   "execution_count": 73,
   "metadata": {},
   "outputs": [
    {
     "name": "stdout",
     "output_type": "stream",
     "text": [
      "The False positive rate (Human as AI) :  0.263\n",
      "The True Negative rate (Human as Human) :  0.737\n"
     ]
    }
   ],
   "source": [
    "accruacy_human(human_fr)"
   ]
  },
  {
   "cell_type": "code",
   "execution_count": 74,
   "metadata": {},
   "outputs": [
    {
     "name": "stdout",
     "output_type": "stream",
     "text": [
      "The False positive rate (Human as AI) :  0.5725725725725725\n",
      "The True Negative rate (Human as Human) :  0.42742742742742745\n"
     ]
    }
   ],
   "source": [
    "accruacy_human(human_fr_tr)"
   ]
  },
  {
   "cell_type": "code",
   "execution_count": 75,
   "metadata": {},
   "outputs": [
    {
     "name": "stdout",
     "output_type": "stream",
     "text": [
      "The true Positive rate ( AI as AI) :  0.613\n",
      "The False Negative rate (AI as Human) :  0.387\n"
     ]
    }
   ],
   "source": [
    "accruacy_ai(ai_fr)"
   ]
  },
  {
   "cell_type": "code",
   "execution_count": 76,
   "metadata": {},
   "outputs": [
    {
     "name": "stdout",
     "output_type": "stream",
     "text": [
      "The true Positive rate ( AI as AI) :  0.885\n",
      "The False Negative rate (AI as Human) :  0.115\n"
     ]
    }
   ],
   "source": [
    "accruacy_ai(ai_fr_tr)"
   ]
  },
  {
   "cell_type": "markdown",
   "metadata": {},
   "source": [
    "### Results for Italian"
   ]
  },
  {
   "cell_type": "code",
   "execution_count": 77,
   "metadata": {},
   "outputs": [],
   "source": [
    "human_it = model.predict(human_it)\n",
    "human_it_tr = model.predict(human_it_tr)\n",
    "ai_it = model.predict(ai_it)\n",
    "ai_it_tr = model.predict(ai_it_tr)"
   ]
  },
  {
   "cell_type": "code",
   "execution_count": 78,
   "metadata": {},
   "outputs": [
    {
     "name": "stdout",
     "output_type": "stream",
     "text": [
      "([0.0, 0.017, 1.0], [0.0, 0.33466533466533466, 1.0], 0.6588326673326674)\n",
      "0.6588326673326674\n"
     ]
    }
   ],
   "source": [
    "res = get_roc_metrics(human_it, ai_it)\n",
    "print(res)\n",
    "print(res[2])"
   ]
  },
  {
   "cell_type": "code",
   "execution_count": 79,
   "metadata": {},
   "outputs": [
    {
     "name": "stdout",
     "output_type": "stream",
     "text": [
      "([0.0, 0.461, 1.0], [0.0, 0.8041958041958042, 1.0], 0.6715979020979019)\n",
      "0.6715979020979019\n"
     ]
    }
   ],
   "source": [
    "res = get_roc_metrics(human_it_tr, ai_it_tr)\n",
    "print(res)\n",
    "print(res[2])"
   ]
  },
  {
   "cell_type": "code",
   "execution_count": 80,
   "metadata": {},
   "outputs": [
    {
     "name": "stdout",
     "output_type": "stream",
     "text": [
      "The False positive rate (Human as AI) :  0.017\n",
      "The True Negative rate (Human as Human) :  0.983\n"
     ]
    }
   ],
   "source": [
    "accruacy_human(human_it)"
   ]
  },
  {
   "cell_type": "code",
   "execution_count": 81,
   "metadata": {},
   "outputs": [
    {
     "name": "stdout",
     "output_type": "stream",
     "text": [
      "The False positive rate (Human as AI) :  0.461\n",
      "The True Negative rate (Human as Human) :  0.539\n"
     ]
    }
   ],
   "source": [
    "accruacy_human(human_it_tr)"
   ]
  },
  {
   "cell_type": "code",
   "execution_count": 82,
   "metadata": {},
   "outputs": [
    {
     "name": "stdout",
     "output_type": "stream",
     "text": [
      "The true Positive rate ( AI as AI) :  0.33466533466533466\n",
      "The False Negative rate (AI as Human) :  0.6653346653346653\n"
     ]
    }
   ],
   "source": [
    "accruacy_ai(ai_it)"
   ]
  },
  {
   "cell_type": "code",
   "execution_count": 83,
   "metadata": {},
   "outputs": [
    {
     "name": "stdout",
     "output_type": "stream",
     "text": [
      "The true Positive rate ( AI as AI) :  0.8041958041958042\n",
      "The False Negative rate (AI as Human) :  0.1958041958041958\n"
     ]
    }
   ],
   "source": [
    "accruacy_ai(ai_it_tr)"
   ]
  },
  {
   "cell_type": "markdown",
   "metadata": {},
   "source": [
    "# Using llama2"
   ]
  },
  {
   "cell_type": "code",
   "execution_count": 84,
   "metadata": {},
   "outputs": [],
   "source": [
    "import csv \n",
    "import numpy as np"
   ]
  },
  {
   "cell_type": "code",
   "execution_count": 85,
   "metadata": {},
   "outputs": [],
   "source": [
    "all = []\n",
    "human_de =[]\n",
    "human_de_tr = []\n",
    "human_fr = []\n",
    "human_fr_tr =[]\n",
    "human_it = []\n",
    "human_it_tr =[]\n",
    "llama_ai_de = []\n",
    "llama_ai_de_tr = []\n",
    "llama_ai_fr = []\n",
    "llama_ai_fr_tr = []\n",
    "llama_ai_it = []\n",
    "llama_ai_it_tr = []\n",
    "\n",
    "\n",
    "with open('logp_human_de.csv','r') as f:\n",
    "    reader = csv.reader(f)\n",
    "    for row in reader:\n",
    "        human_de.append(float(row[0]))\n",
    "        all.append(float(row[0]))\n",
    "with open('logp_human_it.csv','r') as f:\n",
    "    reader = csv.reader(f) \n",
    "    for row in reader:\n",
    "        human_it.append(float(row[0]))\n",
    "        all.append(float(row[0]))\n",
    "with open('logp_human_fr.csv','r') as f:\n",
    "    reader = csv.reader(f) \n",
    "    for row in reader:\n",
    "        human_fr.append(float(row[0]))\n",
    "        all.append(float(row[0]))\n",
    "with open('logp_human_de_tr.csv','r') as f:\n",
    "    reader = csv.reader(f) \n",
    "    for row in reader:\n",
    "        human_de_tr.append(float(row[0]))\n",
    "        all.append(float(row[0]))\n",
    "with open('logp_human_it_tr.csv','r') as f:\n",
    "    reader = csv.reader(f) \n",
    "    for row in reader:\n",
    "        human_it_tr.append(float(row[0]))\n",
    "        all.append(float(row[0]))\n",
    "with open('logp_human_fr_tr.csv','r') as f:\n",
    "    reader = csv.reader(f) \n",
    "    for row in reader:\n",
    "        human_fr_tr.append(float(row[0]))\n",
    "        all.append(float(row[0]))\n",
    "with open('logp_llama_ai_de.csv','r') as f:\n",
    "    reader = csv.reader(f) \n",
    "    for row in reader:\n",
    "        llama_ai_de.append(float(row[0]))\n",
    "        all.append(float(row[0]))\n",
    "with open('logp_llama_ai_it.csv','r') as f:\n",
    "    reader = csv.reader(f) \n",
    "    for row in reader:\n",
    "        llama_ai_it.append(float(row[0]))\n",
    "        all.append(float(row[0]))\n",
    "with open('logp_llama_ai_fr.csv','r') as f:\n",
    "    reader = csv.reader(f)\n",
    "    for row in reader:\n",
    "        llama_ai_fr.append(float(row[0]))\n",
    "        all.append(float(row[0]))\n",
    "with open('logp_llama_ai_de_tr.csv','r') as f:\n",
    "    reader = csv.reader(f)\n",
    "    for row in reader:\n",
    "        llama_ai_de_tr.append(float(row[0]))\n",
    "        all.append(float(row[0]))\n",
    "with open('logp_llama_ai_it_tr.csv','r') as f:\n",
    "    reader = csv.reader(f)\n",
    "    for row in reader:\n",
    "        llama_ai_it_tr.append(float(row[0]))\n",
    "        all.append(float(row[0]))\n",
    "with open('logp_llama_ai_fr_tr.csv','r') as f:\n",
    "    reader = csv.reader(f)\n",
    "    for row in reader:\n",
    "        llama_ai_fr_tr.append(float(row[0]))\n",
    "        all.append(float(row[0]))"
   ]
  },
  {
   "cell_type": "code",
   "execution_count": 86,
   "metadata": {},
   "outputs": [],
   "source": [
    "human_de = np.array(human_de)\n",
    "human_de_tr = np.array(human_de_tr)\n",
    "human_fr = np.array(human_fr)\n",
    "human_fr_tr = np.array(human_fr_tr)\n",
    "human_it = np.array(human_it)\n",
    "human_it_tr = np.array(human_it_tr)\n",
    "llama_ai_de = np.array(llama_ai_de)\n",
    "llama_ai_de_tr = np.array(llama_ai_de_tr)\n",
    "llama_ai_fr = np.array(llama_ai_fr)\n",
    "llama_ai_fr_tr = np.array(llama_ai_fr_tr)\n",
    "llama_ai_it = np.array(llama_ai_it)\n",
    "llama_ai_it_tr = np.array(llama_ai_it_tr)"
   ]
  },
  {
   "cell_type": "code",
   "execution_count": 87,
   "metadata": {},
   "outputs": [],
   "source": [
    "human_de = human_de.reshape(-1,1)\n",
    "human_de_tr = human_de_tr.reshape(-1,1)\n",
    "human_fr = human_fr.reshape(-1,1)\n",
    "human_fr_tr = human_fr_tr.reshape(-1,1)\n",
    "human_it = human_it.reshape(-1,1)\n",
    "human_it_tr = human_it_tr.reshape(-1,1)\n",
    "llama_ai_de = llama_ai_de.reshape(-1,1)\n",
    "llama_ai_de_tr = llama_ai_de_tr.reshape(-1,1)\n",
    "llama_ai_fr = llama_ai_fr.reshape(-1,1)\n",
    "llama_ai_fr_tr = llama_ai_fr_tr.reshape(-1,1)\n",
    "llama_ai_it = llama_ai_it.reshape(-1,1)\n",
    "llama_ai_it_tr = llama_ai_it_tr.reshape(-1,1)"
   ]
  },
  {
   "cell_type": "code",
   "execution_count": 88,
   "metadata": {},
   "outputs": [],
   "source": [
    "from sklearn.metrics import roc_curve, precision_recall_curve, auc\n",
    "def get_roc_metrics(human_preds, llama_ai_preds):\n",
    "    # human_preds is the ai-generated probabiities of human-text\n",
    "    # llama_ai_preds is the ai-generated probabiities of human-text\n",
    "    sum = []\n",
    "    for text in human_preds:\n",
    "        sum.append(text)\n",
    "    for text in llama_ai_preds:\n",
    "        sum.append(text)\n",
    "    fpr, tpr, _ = roc_curve([0] * len(human_preds) + [1] * len(llama_ai_preds), sum,pos_label=1)\n",
    "    roc_auc = auc(fpr, tpr)\n",
    "    return fpr.tolist(), tpr.tolist(), float(roc_auc)"
   ]
  },
  {
   "cell_type": "code",
   "execution_count": 89,
   "metadata": {},
   "outputs": [],
   "source": [
    "def accruacy_human(preds):\n",
    "    incorrect = 0\n",
    "    correct = 0\n",
    "    for i in preds:\n",
    "        if i == 1:\n",
    "            incorrect+=1\n",
    "        else :\n",
    "            correct+=1\n",
    "    print(\"The False positive rate (Human as AI) : \", incorrect/len(preds))\n",
    "    print(\"The True Negative rate (Human as Human) : \", correct/len(preds))\n",
    "\n",
    "def accruacy_ai(preds):\n",
    "    correct = 0\n",
    "    incorrect = 0\n",
    "    for i in preds:\n",
    "        if i == 1:\n",
    "            correct+=1\n",
    "        else :\n",
    "            incorrect+=1\n",
    "    print(\"The true Positive rate ( AI as AI) : \", correct/len(preds))\n",
    "    print(\"The False Negative rate (AI as Human) : \", incorrect/len(preds))"
   ]
  },
  {
   "cell_type": "markdown",
   "metadata": {},
   "source": [
    "### Results for German"
   ]
  },
  {
   "cell_type": "code",
   "execution_count": 90,
   "metadata": {},
   "outputs": [],
   "source": [
    "human_de = model.predict(human_de)\n",
    "human_de_tr = model.predict(human_de_tr)\n",
    "llama_ai_de = model.predict(llama_ai_de)\n",
    "llama_ai_de_tr = model.predict(llama_ai_de_tr)"
   ]
  },
  {
   "cell_type": "code",
   "execution_count": 91,
   "metadata": {},
   "outputs": [
    {
     "name": "stdout",
     "output_type": "stream",
     "text": [
      "([0.0, 0.25, 1.0], [0.0, 0.885, 1.0], 0.8175)\n",
      "0.8175\n"
     ]
    }
   ],
   "source": [
    "res = get_roc_metrics(human_de, llama_ai_de)\n",
    "print(res)\n",
    "print(res[2])"
   ]
  },
  {
   "cell_type": "code",
   "execution_count": 92,
   "metadata": {},
   "outputs": [
    {
     "name": "stdout",
     "output_type": "stream",
     "text": [
      "([0.0, 0.557, 1.0], [0.0, 0.91, 1.0], 0.6765)\n",
      "0.6765\n"
     ]
    }
   ],
   "source": [
    "res = get_roc_metrics(human_de_tr, llama_ai_de_tr)\n",
    "print(res)\n",
    "print(res[2])"
   ]
  },
  {
   "cell_type": "code",
   "execution_count": 93,
   "metadata": {},
   "outputs": [
    {
     "name": "stdout",
     "output_type": "stream",
     "text": [
      "The False positive rate (Human as AI) :  0.25\n",
      "The True Negative rate (Human as Human) :  0.75\n"
     ]
    }
   ],
   "source": [
    "accruacy_human(human_de)"
   ]
  },
  {
   "cell_type": "code",
   "execution_count": 94,
   "metadata": {},
   "outputs": [
    {
     "name": "stdout",
     "output_type": "stream",
     "text": [
      "The true Positive rate ( AI as AI) :  0.885\n",
      "The False Negative rate (AI as Human) :  0.115\n"
     ]
    }
   ],
   "source": [
    "accruacy_ai(llama_ai_de)"
   ]
  },
  {
   "cell_type": "code",
   "execution_count": 95,
   "metadata": {},
   "outputs": [
    {
     "name": "stdout",
     "output_type": "stream",
     "text": [
      "The False positive rate (Human as AI) :  0.557\n",
      "The True Negative rate (Human as Human) :  0.443\n"
     ]
    }
   ],
   "source": [
    "accruacy_human(human_de_tr)"
   ]
  },
  {
   "cell_type": "code",
   "execution_count": 96,
   "metadata": {},
   "outputs": [
    {
     "name": "stdout",
     "output_type": "stream",
     "text": [
      "The true Positive rate ( AI as AI) :  0.91\n",
      "The False Negative rate (AI as Human) :  0.09\n"
     ]
    }
   ],
   "source": [
    "accruacy_ai(llama_ai_de_tr)"
   ]
  },
  {
   "cell_type": "markdown",
   "metadata": {},
   "source": [
    "### Results for French"
   ]
  },
  {
   "cell_type": "code",
   "execution_count": 97,
   "metadata": {},
   "outputs": [],
   "source": [
    "human_fr = model.predict(human_fr)\n",
    "human_fr_tr = model.predict(human_fr_tr)\n",
    "llama_ai_fr = model.predict(llama_ai_fr)\n",
    "llama_ai_fr_tr = model.predict(llama_ai_fr_tr)"
   ]
  },
  {
   "cell_type": "code",
   "execution_count": 98,
   "metadata": {},
   "outputs": [
    {
     "name": "stdout",
     "output_type": "stream",
     "text": [
      "([0.0, 0.263, 1.0], [0.0, 0.822, 1.0], 0.7795)\n",
      "0.7795\n"
     ]
    }
   ],
   "source": [
    "res = get_roc_metrics(human_fr, llama_ai_fr)\n",
    "print(res)\n",
    "print(res[2])"
   ]
  },
  {
   "cell_type": "code",
   "execution_count": 99,
   "metadata": {},
   "outputs": [
    {
     "name": "stdout",
     "output_type": "stream",
     "text": [
      "([0.0, 0.5725725725725725, 1.0], [0.0, 0.84, 1.0], 0.6337137137137137)\n",
      "0.6337137137137137\n"
     ]
    }
   ],
   "source": [
    "res = get_roc_metrics(human_fr_tr, llama_ai_fr_tr)\n",
    "print(res)\n",
    "print(res[2])"
   ]
  },
  {
   "cell_type": "code",
   "execution_count": 100,
   "metadata": {},
   "outputs": [
    {
     "name": "stdout",
     "output_type": "stream",
     "text": [
      "The False positive rate (Human as AI) :  0.263\n",
      "The True Negative rate (Human as Human) :  0.737\n"
     ]
    }
   ],
   "source": [
    "accruacy_human(human_fr)"
   ]
  },
  {
   "cell_type": "code",
   "execution_count": 101,
   "metadata": {},
   "outputs": [
    {
     "name": "stdout",
     "output_type": "stream",
     "text": [
      "The False positive rate (Human as AI) :  0.5725725725725725\n",
      "The True Negative rate (Human as Human) :  0.42742742742742745\n"
     ]
    }
   ],
   "source": [
    "accruacy_human(human_fr_tr)"
   ]
  },
  {
   "cell_type": "code",
   "execution_count": 102,
   "metadata": {},
   "outputs": [
    {
     "name": "stdout",
     "output_type": "stream",
     "text": [
      "The true Positive rate ( AI as AI) :  0.822\n",
      "The False Negative rate (AI as Human) :  0.178\n"
     ]
    }
   ],
   "source": [
    "accruacy_ai(llama_ai_fr)"
   ]
  },
  {
   "cell_type": "code",
   "execution_count": 103,
   "metadata": {},
   "outputs": [
    {
     "name": "stdout",
     "output_type": "stream",
     "text": [
      "The true Positive rate ( AI as AI) :  0.84\n",
      "The False Negative rate (AI as Human) :  0.16\n"
     ]
    }
   ],
   "source": [
    "accruacy_ai(llama_ai_fr_tr)"
   ]
  },
  {
   "cell_type": "markdown",
   "metadata": {},
   "source": [
    "### Results for Italian"
   ]
  },
  {
   "cell_type": "code",
   "execution_count": 104,
   "metadata": {},
   "outputs": [],
   "source": [
    "human_it = model.predict(human_it)\n",
    "human_it_tr = model.predict(human_it_tr)\n",
    "llama_ai_it = model.predict(llama_ai_it)\n",
    "llama_ai_it_tr = model.predict(llama_ai_it_tr)"
   ]
  },
  {
   "cell_type": "code",
   "execution_count": 105,
   "metadata": {},
   "outputs": [
    {
     "name": "stdout",
     "output_type": "stream",
     "text": [
      "([0.0, 0.017, 1.0], [0.0, 0.76, 1.0], 0.8715)\n",
      "0.8715\n"
     ]
    }
   ],
   "source": [
    "res = get_roc_metrics(human_it, llama_ai_it)\n",
    "print(res)\n",
    "print(res[2])"
   ]
  },
  {
   "cell_type": "code",
   "execution_count": 106,
   "metadata": {},
   "outputs": [
    {
     "name": "stdout",
     "output_type": "stream",
     "text": [
      "([0.0, 0.461, 1.0], [0.0, 0.813, 1.0], 0.6759999999999999)\n",
      "0.6759999999999999\n"
     ]
    }
   ],
   "source": [
    "res = get_roc_metrics(human_it_tr, llama_ai_it_tr)\n",
    "print(res)\n",
    "print(res[2])"
   ]
  },
  {
   "cell_type": "code",
   "execution_count": 107,
   "metadata": {},
   "outputs": [
    {
     "name": "stdout",
     "output_type": "stream",
     "text": [
      "The False positive rate (Human as AI) :  0.017\n",
      "The True Negative rate (Human as Human) :  0.983\n"
     ]
    }
   ],
   "source": [
    "accruacy_human(human_it)"
   ]
  },
  {
   "cell_type": "code",
   "execution_count": 108,
   "metadata": {},
   "outputs": [
    {
     "name": "stdout",
     "output_type": "stream",
     "text": [
      "The False positive rate (Human as AI) :  0.461\n",
      "The True Negative rate (Human as Human) :  0.539\n"
     ]
    }
   ],
   "source": [
    "accruacy_human(human_it_tr)"
   ]
  },
  {
   "cell_type": "code",
   "execution_count": 109,
   "metadata": {},
   "outputs": [
    {
     "name": "stdout",
     "output_type": "stream",
     "text": [
      "The true Positive rate ( AI as AI) :  0.76\n",
      "The False Negative rate (AI as Human) :  0.24\n"
     ]
    }
   ],
   "source": [
    "accruacy_ai(llama_ai_it)"
   ]
  },
  {
   "cell_type": "code",
   "execution_count": 110,
   "metadata": {},
   "outputs": [
    {
     "name": "stdout",
     "output_type": "stream",
     "text": [
      "The true Positive rate ( AI as AI) :  0.813\n",
      "The False Negative rate (AI as Human) :  0.187\n"
     ]
    }
   ],
   "source": [
    "accruacy_ai(llama_ai_it_tr)"
   ]
  },
  {
   "cell_type": "code",
   "execution_count": null,
   "metadata": {},
   "outputs": [],
   "source": []
  }
 ],
 "metadata": {
  "kernelspec": {
   "display_name": "ML",
   "language": "python",
   "name": "python3"
  },
  "language_info": {
   "codemirror_mode": {
    "name": "ipython",
    "version": 3
   },
   "file_extension": ".py",
   "mimetype": "text/x-python",
   "name": "python",
   "nbconvert_exporter": "python",
   "pygments_lexer": "ipython3",
   "version": "3.11.6"
  }
 },
 "nbformat": 4,
 "nbformat_minor": 2
}
