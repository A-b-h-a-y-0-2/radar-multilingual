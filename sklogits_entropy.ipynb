{
 "cells": [
  {
   "cell_type": "code",
   "execution_count": 37,
   "metadata": {},
   "outputs": [],
   "source": [
    "import csv \n",
    "import numpy as np"
   ]
  },
  {
   "cell_type": "code",
   "execution_count": 38,
   "metadata": {},
   "outputs": [],
   "source": [
    "all = []\n",
    "human_de =[]\n",
    "human_de_tr = []\n",
    "human_fr = []\n",
    "human_fr_tr =[]\n",
    "human_it = []\n",
    "human_it_tr =[]\n",
    "ai_de = []\n",
    "ai_de_tr = []\n",
    "ai_fr = []\n",
    "ai_fr_tr = []\n",
    "ai_it = []\n",
    "ai_it_tr = []\n",
    "\n",
    "\n",
    "with open('entropy_human_de.csv','r') as f:\n",
    "    reader = csv.reader(f)\n",
    "    for row in reader:\n",
    "        human_de.append(float(row[0]))\n",
    "        all.append(float(row[0]))\n",
    "with open('entropy_human_it.csv','r') as f:\n",
    "    reader = csv.reader(f) \n",
    "    for row in reader:\n",
    "        human_it.append(float(row[0]))\n",
    "        all.append(float(row[0]))\n",
    "with open('entropy_human_fr.csv','r') as f:\n",
    "    reader = csv.reader(f) \n",
    "    for row in reader:\n",
    "        human_fr.append(float(row[0]))\n",
    "        all.append(float(row[0]))\n",
    "with open('entropy_human_de_tr.csv','r') as f:\n",
    "    reader = csv.reader(f) \n",
    "    for row in reader:\n",
    "        human_de_tr.append(float(row[0]))\n",
    "        all.append(float(row[0]))\n",
    "with open('entropy_human_it_tr.csv','r') as f:\n",
    "    reader = csv.reader(f) \n",
    "    for row in reader:\n",
    "        human_it_tr.append(float(row[0]))\n",
    "        all.append(float(row[0]))\n",
    "with open('entropy_human_fr_tr.csv','r') as f:\n",
    "    reader = csv.reader(f) \n",
    "    for row in reader:\n",
    "        human_fr_tr.append(float(row[0]))\n",
    "        all.append(float(row[0]))\n",
    "with open('entropy_ai_de.csv','r') as f:\n",
    "    reader = csv.reader(f) \n",
    "    for row in reader:\n",
    "        ai_de.append(float(row[0]))\n",
    "        all.append(float(row[0]))\n",
    "with open('entropy_ai_it.csv','r') as f:\n",
    "    reader = csv.reader(f) \n",
    "    for row in reader:\n",
    "        ai_it.append(float(row[0]))\n",
    "        all.append(float(row[0]))\n",
    "with open('entropy_ai_fr.csv','r') as f:\n",
    "    reader = csv.reader(f)\n",
    "    for row in reader:\n",
    "        ai_fr.append(float(row[0]))\n",
    "        all.append(float(row[0]))\n",
    "with open('entropy_ai_de_tr.csv','r') as f:\n",
    "    reader = csv.reader(f)\n",
    "    for row in reader:\n",
    "        ai_de_tr.append(float(row[0]))\n",
    "        all.append(float(row[0]))\n",
    "with open('entropy_ai_it_tr.csv','r') as f:\n",
    "    reader = csv.reader(f)\n",
    "    for row in reader:\n",
    "        ai_it_tr.append(float(row[0]))\n",
    "        all.append(float(row[0]))\n",
    "with open('entropy_ai_fr_tr.csv','r') as f:\n",
    "    reader = csv.reader(f)\n",
    "    for row in reader:\n",
    "        ai_fr_tr.append(float(row[0]))\n",
    "        all.append(float(row[0]))"
   ]
  },
  {
   "cell_type": "code",
   "execution_count": 39,
   "metadata": {},
   "outputs": [
    {
     "name": "stderr",
     "output_type": "stream",
     "text": [
      "/home/deadbytes/anaconda3/lib/python3.11/site-packages/sklearn/cluster/_kmeans.py:870: FutureWarning: The default value of `n_init` will change from 10 to 'auto' in 1.4. Set the value of `n_init` explicitly to suppress the warning\n",
      "  warnings.warn(\n"
     ]
    },
    {
     "data": {
      "text/html": [
       "<style>#sk-container-id-2 {color: black;background-color: white;}#sk-container-id-2 pre{padding: 0;}#sk-container-id-2 div.sk-toggleable {background-color: white;}#sk-container-id-2 label.sk-toggleable__label {cursor: pointer;display: block;width: 100%;margin-bottom: 0;padding: 0.3em;box-sizing: border-box;text-align: center;}#sk-container-id-2 label.sk-toggleable__label-arrow:before {content: \"▸\";float: left;margin-right: 0.25em;color: #696969;}#sk-container-id-2 label.sk-toggleable__label-arrow:hover:before {color: black;}#sk-container-id-2 div.sk-estimator:hover label.sk-toggleable__label-arrow:before {color: black;}#sk-container-id-2 div.sk-toggleable__content {max-height: 0;max-width: 0;overflow: hidden;text-align: left;background-color: #f0f8ff;}#sk-container-id-2 div.sk-toggleable__content pre {margin: 0.2em;color: black;border-radius: 0.25em;background-color: #f0f8ff;}#sk-container-id-2 input.sk-toggleable__control:checked~div.sk-toggleable__content {max-height: 200px;max-width: 100%;overflow: auto;}#sk-container-id-2 input.sk-toggleable__control:checked~label.sk-toggleable__label-arrow:before {content: \"▾\";}#sk-container-id-2 div.sk-estimator input.sk-toggleable__control:checked~label.sk-toggleable__label {background-color: #d4ebff;}#sk-container-id-2 div.sk-label input.sk-toggleable__control:checked~label.sk-toggleable__label {background-color: #d4ebff;}#sk-container-id-2 input.sk-hidden--visually {border: 0;clip: rect(1px 1px 1px 1px);clip: rect(1px, 1px, 1px, 1px);height: 1px;margin: -1px;overflow: hidden;padding: 0;position: absolute;width: 1px;}#sk-container-id-2 div.sk-estimator {font-family: monospace;background-color: #f0f8ff;border: 1px dotted black;border-radius: 0.25em;box-sizing: border-box;margin-bottom: 0.5em;}#sk-container-id-2 div.sk-estimator:hover {background-color: #d4ebff;}#sk-container-id-2 div.sk-parallel-item::after {content: \"\";width: 100%;border-bottom: 1px solid gray;flex-grow: 1;}#sk-container-id-2 div.sk-label:hover label.sk-toggleable__label {background-color: #d4ebff;}#sk-container-id-2 div.sk-serial::before {content: \"\";position: absolute;border-left: 1px solid gray;box-sizing: border-box;top: 0;bottom: 0;left: 50%;z-index: 0;}#sk-container-id-2 div.sk-serial {display: flex;flex-direction: column;align-items: center;background-color: white;padding-right: 0.2em;padding-left: 0.2em;position: relative;}#sk-container-id-2 div.sk-item {position: relative;z-index: 1;}#sk-container-id-2 div.sk-parallel {display: flex;align-items: stretch;justify-content: center;background-color: white;position: relative;}#sk-container-id-2 div.sk-item::before, #sk-container-id-2 div.sk-parallel-item::before {content: \"\";position: absolute;border-left: 1px solid gray;box-sizing: border-box;top: 0;bottom: 0;left: 50%;z-index: -1;}#sk-container-id-2 div.sk-parallel-item {display: flex;flex-direction: column;z-index: 1;position: relative;background-color: white;}#sk-container-id-2 div.sk-parallel-item:first-child::after {align-self: flex-end;width: 50%;}#sk-container-id-2 div.sk-parallel-item:last-child::after {align-self: flex-start;width: 50%;}#sk-container-id-2 div.sk-parallel-item:only-child::after {width: 0;}#sk-container-id-2 div.sk-dashed-wrapped {border: 1px dashed gray;margin: 0 0.4em 0.5em 0.4em;box-sizing: border-box;padding-bottom: 0.4em;background-color: white;}#sk-container-id-2 div.sk-label label {font-family: monospace;font-weight: bold;display: inline-block;line-height: 1.2em;}#sk-container-id-2 div.sk-label-container {text-align: center;}#sk-container-id-2 div.sk-container {/* jupyter's `normalize.less` sets `[hidden] { display: none; }` but bootstrap.min.css set `[hidden] { display: none !important; }` so we also need the `!important` here to be able to override the default hidden behavior on the sphinx rendered scikit-learn.org. See: https://github.com/scikit-learn/scikit-learn/issues/21755 */display: inline-block !important;position: relative;}#sk-container-id-2 div.sk-text-repr-fallback {display: none;}</style><div id=\"sk-container-id-2\" class=\"sk-top-container\"><div class=\"sk-text-repr-fallback\"><pre>KMeans(n_clusters=2)</pre><b>In a Jupyter environment, please rerun this cell to show the HTML representation or trust the notebook. <br />On GitHub, the HTML representation is unable to render, please try loading this page with nbviewer.org.</b></div><div class=\"sk-container\" hidden><div class=\"sk-item\"><div class=\"sk-estimator sk-toggleable\"><input class=\"sk-toggleable__control sk-hidden--visually\" id=\"sk-estimator-id-2\" type=\"checkbox\" checked><label for=\"sk-estimator-id-2\" class=\"sk-toggleable__label sk-toggleable__label-arrow\">KMeans</label><div class=\"sk-toggleable__content\"><pre>KMeans(n_clusters=2)</pre></div></div></div></div></div>"
      ],
      "text/plain": [
       "KMeans(n_clusters=2)"
      ]
     },
     "execution_count": 39,
     "metadata": {},
     "output_type": "execute_result"
    }
   ],
   "source": [
    "from sklearn.cluster import KMeans\n",
    "model = KMeans(n_clusters=2)\n",
    "all = np.array(all)\n",
    "all = all.reshape(-1,1)\n",
    "model.fit(all)"
   ]
  },
  {
   "cell_type": "code",
   "execution_count": 40,
   "metadata": {},
   "outputs": [],
   "source": [
    "human_de = np.array(human_de)\n",
    "human_de_tr = np.array(human_de_tr)\n",
    "human_fr = np.array(human_fr)\n",
    "human_fr_tr = np.array(human_fr_tr)\n",
    "human_it = np.array(human_it)\n",
    "human_it_tr = np.array(human_it_tr)\n",
    "ai_de = np.array(ai_de)\n",
    "ai_de_tr = np.array(ai_de_tr)\n",
    "ai_fr = np.array(ai_fr)\n",
    "ai_fr_tr = np.array(ai_fr_tr)\n",
    "ai_it = np.array(ai_it)\n",
    "ai_it_tr = np.array(ai_it_tr)"
   ]
  },
  {
   "cell_type": "code",
   "execution_count": 41,
   "metadata": {},
   "outputs": [],
   "source": [
    "human_de = human_de.reshape(-1,1)\n",
    "human_de_tr = human_de_tr.reshape(-1,1)\n",
    "human_fr = human_fr.reshape(-1,1)\n",
    "human_fr_tr = human_fr_tr.reshape(-1,1)\n",
    "human_it = human_it.reshape(-1,1)\n",
    "human_it_tr = human_it_tr.reshape(-1,1)\n",
    "ai_de = ai_de.reshape(-1,1)\n",
    "ai_de_tr = ai_de_tr.reshape(-1,1)\n",
    "ai_fr = ai_fr.reshape(-1,1)\n",
    "ai_fr_tr = ai_fr_tr.reshape(-1,1)\n",
    "ai_it = ai_it.reshape(-1,1)\n",
    "ai_it_tr = ai_it_tr.reshape(-1,1)"
   ]
  },
  {
   "cell_type": "code",
   "execution_count": 42,
   "metadata": {},
   "outputs": [],
   "source": [
    "def accruacy_human(preds):\n",
    "    incorrect = 0\n",
    "    for i in preds:\n",
    "        if i == 1:\n",
    "            incorrect+=1\n",
    "    print(\"The False positive rate : \", incorrect/len(preds))\n",
    "def accruacy_ai(preds):\n",
    "    correct = 0\n",
    "    for i in preds:\n",
    "        if i == 1:\n",
    "            correct+=1\n",
    "    print(\"The true Positive rate : \", correct/len(preds))"
   ]
  },
  {
   "cell_type": "markdown",
   "metadata": {},
   "source": [
    "### Results for German"
   ]
  },
  {
   "cell_type": "code",
   "execution_count": 43,
   "metadata": {},
   "outputs": [],
   "source": [
    "human_de = model.predict(human_de)\n",
    "human_de_tr = model.predict(human_de_tr)\n",
    "ai_de = model.predict(ai_de)\n",
    "ai_de_tr = model.predict(ai_de_tr)"
   ]
  },
  {
   "cell_type": "code",
   "execution_count": 44,
   "metadata": {},
   "outputs": [
    {
     "name": "stdout",
     "output_type": "stream",
     "text": [
      "The False positive rate :  0.662\n"
     ]
    }
   ],
   "source": [
    "accruacy_human(human_de)"
   ]
  },
  {
   "cell_type": "code",
   "execution_count": 45,
   "metadata": {},
   "outputs": [
    {
     "name": "stdout",
     "output_type": "stream",
     "text": [
      "The true Positive rate :  0.526\n"
     ]
    }
   ],
   "source": [
    "accruacy_ai(ai_de)"
   ]
  },
  {
   "cell_type": "code",
   "execution_count": 46,
   "metadata": {},
   "outputs": [
    {
     "name": "stdout",
     "output_type": "stream",
     "text": [
      "The False positive rate :  0.356\n"
     ]
    }
   ],
   "source": [
    "accruacy_human(human_de_tr)"
   ]
  },
  {
   "cell_type": "code",
   "execution_count": 47,
   "metadata": {},
   "outputs": [
    {
     "name": "stdout",
     "output_type": "stream",
     "text": [
      "The true Positive rate :  0.328\n"
     ]
    }
   ],
   "source": [
    "accruacy_ai(ai_de_tr)"
   ]
  },
  {
   "cell_type": "markdown",
   "metadata": {},
   "source": [
    "### Results for French"
   ]
  },
  {
   "cell_type": "code",
   "execution_count": 48,
   "metadata": {},
   "outputs": [],
   "source": [
    "human_fr = model.predict(human_fr)\n",
    "human_fr_tr = model.predict(human_fr_tr)\n",
    "ai_fr = model.predict(ai_fr)\n",
    "ai_fr_tr = model.predict(ai_fr_tr)"
   ]
  },
  {
   "cell_type": "code",
   "execution_count": 49,
   "metadata": {},
   "outputs": [
    {
     "name": "stdout",
     "output_type": "stream",
     "text": [
      "The False positive rate :  0.761\n"
     ]
    }
   ],
   "source": [
    "accruacy_human(human_fr)"
   ]
  },
  {
   "cell_type": "code",
   "execution_count": 50,
   "metadata": {},
   "outputs": [
    {
     "name": "stdout",
     "output_type": "stream",
     "text": [
      "The False positive rate :  0.32732732732732733\n"
     ]
    }
   ],
   "source": [
    "accruacy_human(human_fr_tr)"
   ]
  },
  {
   "cell_type": "code",
   "execution_count": 51,
   "metadata": {},
   "outputs": [
    {
     "name": "stdout",
     "output_type": "stream",
     "text": [
      "The true Positive rate :  0.541\n"
     ]
    }
   ],
   "source": [
    "accruacy_ai(ai_fr)"
   ]
  },
  {
   "cell_type": "code",
   "execution_count": 52,
   "metadata": {},
   "outputs": [
    {
     "name": "stdout",
     "output_type": "stream",
     "text": [
      "The true Positive rate :  0.262\n"
     ]
    }
   ],
   "source": [
    "accruacy_ai(ai_fr_tr)"
   ]
  },
  {
   "cell_type": "markdown",
   "metadata": {},
   "source": [
    "### Results for Italian"
   ]
  },
  {
   "cell_type": "code",
   "execution_count": 53,
   "metadata": {},
   "outputs": [],
   "source": [
    "human_it = model.predict(human_it)\n",
    "human_it_tr = model.predict(human_it_tr)\n",
    "ai_it = model.predict(ai_it)\n",
    "ai_it_tr = model.predict(ai_it_tr)"
   ]
  },
  {
   "cell_type": "code",
   "execution_count": 58,
   "metadata": {},
   "outputs": [
    {
     "name": "stdout",
     "output_type": "stream",
     "text": [
      "The False positive rate :  0.972\n"
     ]
    }
   ],
   "source": [
    "accruacy_human(human_it)"
   ]
  },
  {
   "cell_type": "code",
   "execution_count": 59,
   "metadata": {},
   "outputs": [
    {
     "name": "stdout",
     "output_type": "stream",
     "text": [
      "The False positive rate :  0.471\n"
     ]
    }
   ],
   "source": [
    "accruacy_human(human_it_tr)"
   ]
  },
  {
   "cell_type": "code",
   "execution_count": 60,
   "metadata": {},
   "outputs": [
    {
     "name": "stdout",
     "output_type": "stream",
     "text": [
      "The true Positive rate :  0.7862137862137862\n"
     ]
    }
   ],
   "source": [
    "accruacy_ai(ai_it)"
   ]
  },
  {
   "cell_type": "code",
   "execution_count": 61,
   "metadata": {},
   "outputs": [
    {
     "name": "stdout",
     "output_type": "stream",
     "text": [
      "The true Positive rate :  0.3676323676323676\n"
     ]
    }
   ],
   "source": [
    "accruacy_ai(ai_it_tr)"
   ]
  }
 ],
 "metadata": {
  "kernelspec": {
   "display_name": "base",
   "language": "python",
   "name": "python3"
  },
  "language_info": {
   "codemirror_mode": {
    "name": "ipython",
    "version": 3
   },
   "file_extension": ".py",
   "mimetype": "text/x-python",
   "name": "python",
   "nbconvert_exporter": "python",
   "pygments_lexer": "ipython3",
   "version": "3.11.7"
  }
 },
 "nbformat": 4,
 "nbformat_minor": 2
}
