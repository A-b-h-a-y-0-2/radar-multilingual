{
 "cells": [
  {
   "cell_type": "code",
   "execution_count": 16,
   "metadata": {},
   "outputs": [],
   "source": [
    "import pandas as pd\n",
    "from tqdm import tqdm\n",
    "import transformers\n",
    "import torch\n",
    "import torch.nn.functional as F\n",
    "import numpy as np\n",
    "import random"
   ]
  },
  {
   "cell_type": "code",
   "execution_count": 6,
   "metadata": {},
   "outputs": [
    {
     "data": {
      "text/html": [
       "<div>\n",
       "<style scoped>\n",
       "    .dataframe tbody tr th:only-of-type {\n",
       "        vertical-align: middle;\n",
       "    }\n",
       "\n",
       "    .dataframe tbody tr th {\n",
       "        vertical-align: top;\n",
       "    }\n",
       "\n",
       "    .dataframe thead th {\n",
       "        text-align: right;\n",
       "    }\n",
       "</style>\n",
       "<table border=\"1\" class=\"dataframe\">\n",
       "  <thead>\n",
       "    <tr style=\"text-align: right;\">\n",
       "      <th></th>\n",
       "      <th>text</th>\n",
       "      <th>label</th>\n",
       "      <th>multi_label</th>\n",
       "      <th>split</th>\n",
       "      <th>language</th>\n",
       "      <th>length</th>\n",
       "      <th>source</th>\n",
       "    </tr>\n",
       "  </thead>\n",
       "  <tbody>\n",
       "    <tr>\n",
       "      <th>0</th>\n",
       "      <td>Der Ausbruch des Coronavirus hat die Entwicklu...</td>\n",
       "      <td>1</td>\n",
       "      <td>text-davinci-003</td>\n",
       "      <td>test</td>\n",
       "      <td>de</td>\n",
       "      <td>174</td>\n",
       "      <td>MULTITuDE_MassiveSumm_spiegel</td>\n",
       "    </tr>\n",
       "    <tr>\n",
       "      <th>1</th>\n",
       "      <td>Alex Azar was officially sworn in as the U.S. ...</td>\n",
       "      <td>1</td>\n",
       "      <td>text-davinci-003</td>\n",
       "      <td>train</td>\n",
       "      <td>en</td>\n",
       "      <td>57</td>\n",
       "      <td>MULTITuDE_MassiveSumm_voanews</td>\n",
       "    </tr>\n",
       "    <tr>\n",
       "      <th>2</th>\n",
       "      <td>Європейський союз вимагає зупинити розтрату ко...</td>\n",
       "      <td>1</td>\n",
       "      <td>gpt-3.5-turbo</td>\n",
       "      <td>test</td>\n",
       "      <td>uk</td>\n",
       "      <td>105</td>\n",
       "      <td>MULTITuDE_MassiveSumm_interfax</td>\n",
       "    </tr>\n",
       "    <tr>\n",
       "      <th>3</th>\n",
       "      <td>Yesterday, hundreds of Zambian university stud...</td>\n",
       "      <td>1</td>\n",
       "      <td>text-davinci-003</td>\n",
       "      <td>train</td>\n",
       "      <td>en</td>\n",
       "      <td>254</td>\n",
       "      <td>MULTITuDE_MassiveSumm_voanews</td>\n",
       "    </tr>\n",
       "    <tr>\n",
       "      <th>4</th>\n",
       "      <td>In a narrow and highly watched vote, the US Se...</td>\n",
       "      <td>1</td>\n",
       "      <td>gpt-4</td>\n",
       "      <td>train</td>\n",
       "      <td>en</td>\n",
       "      <td>416</td>\n",
       "      <td>MULTITuDE_MassiveSumm_voanews</td>\n",
       "    </tr>\n",
       "  </tbody>\n",
       "</table>\n",
       "</div>"
      ],
      "text/plain": [
       "                                                text  label       multi_label  \\\n",
       "0  Der Ausbruch des Coronavirus hat die Entwicklu...      1  text-davinci-003   \n",
       "1  Alex Azar was officially sworn in as the U.S. ...      1  text-davinci-003   \n",
       "2  Європейський союз вимагає зупинити розтрату ко...      1     gpt-3.5-turbo   \n",
       "3  Yesterday, hundreds of Zambian university stud...      1  text-davinci-003   \n",
       "4  In a narrow and highly watched vote, the US Se...      1             gpt-4   \n",
       "\n",
       "   split language  length                          source  \n",
       "0   test       de     174   MULTITuDE_MassiveSumm_spiegel  \n",
       "1  train       en      57   MULTITuDE_MassiveSumm_voanews  \n",
       "2   test       uk     105  MULTITuDE_MassiveSumm_interfax  \n",
       "3  train       en     254   MULTITuDE_MassiveSumm_voanews  \n",
       "4  train       en     416   MULTITuDE_MassiveSumm_voanews  "
      ]
     },
     "execution_count": 6,
     "metadata": {},
     "output_type": "execute_result"
    }
   ],
   "source": [
    "df_main = pd.read_csv('10013755/multitude.csv')\n",
    "df_main.head()"
   ]
  },
  {
   "cell_type": "code",
   "execution_count": 8,
   "metadata": {},
   "outputs": [],
   "source": [
    "from sklearn.metrics import auc,roc_curve\n",
    "def get_roc_metrics(human_preds, ai_preds):\n",
    "    # human_preds is the ai-generated probabiities of human-text\n",
    "    # ai_preds is the ai-generated probabiities of AI-text\n",
    "    if not human_preds or not ai_preds:\n",
    "            # Handle empty arrays to avoid the IndexError\n",
    "            return None    # Rest of your code\n",
    "    fpr, tpr, _ = roc_curve([0] * len(human_preds) + [1] * len(ai_preds), human_preds + ai_preds, pos_label=1)\n",
    "    roc_auc = auc(fpr, tpr)\n",
    "    return fpr.tolist(), tpr.tolist(), float(roc_auc)"
   ]
  },
  {
   "cell_type": "markdown",
   "metadata": {},
   "source": [
    "Languages available are : \n",
    "- English (en)\n",
    "- Spanish (es)  \n",
    "- Russian (ru) \n",
    "- Dutch (nl)  \n",
    "- Catalan (ca)   \n",
    "- Czech (cs)  \n",
    "- German (de)   \n",
    "- Chinese (zh) \n",
    "- Portuguese (pt)   \n",
    "- Arabic (ar) \n",
    "- Ukrainian (uk)  \n"
   ]
  },
  {
   "cell_type": "markdown",
   "metadata": {},
   "source": [
    "testing on the test split of every language"
   ]
  },
  {
   "cell_type": "code",
   "execution_count": null,
   "metadata": {},
   "outputs": [],
   "source": [
    "\n",
    "device = \"cuda\"# example: cuda:0\n",
    "detector_path_or_id = \"TrustSafeAI/RADAR-Vicuna-7B\"\n",
    "detector = transformers.AutoModelForSequenceClassification.from_pretrained(detector_path_or_id)\n",
    "tokenizer = transformers.AutoTokenizer.from_pretrained(detector_path_or_id)\n",
    "detector.eval()\n",
    "detector.to(device)"
   ]
  },
  {
   "cell_type": "code",
   "execution_count": 15,
   "metadata": {},
   "outputs": [
    {
     "name": "stdout",
     "output_type": "stream",
     "text": [
      "started evaluating for language: de\n"
     ]
    },
    {
     "ename": "NameError",
     "evalue": "name 'tqdm' is not defined",
     "output_type": "error",
     "traceback": [
      "\u001b[0;31m---------------------------------------------------------------------------\u001b[0m",
      "\u001b[0;31mNameError\u001b[0m                                 Traceback (most recent call last)",
      "Cell \u001b[0;32mIn[15], line 11\u001b[0m\n\u001b[1;32m      9\u001b[0m output_probs_ai \u001b[38;5;241m=\u001b[39m []\n\u001b[1;32m     10\u001b[0m \u001b[38;5;28;01mwith\u001b[39;00m torch\u001b[38;5;241m.\u001b[39mno_grad():\n\u001b[0;32m---> 11\u001b[0m     \u001b[38;5;28;01mfor\u001b[39;00m i  \u001b[38;5;129;01min\u001b[39;00m \u001b[43mtqdm\u001b[49m(df_test_human[\u001b[38;5;124m'\u001b[39m\u001b[38;5;124mtext\u001b[39m\u001b[38;5;124m'\u001b[39m]):\n\u001b[1;32m     12\u001b[0m         inputs \u001b[38;5;241m=\u001b[39m tokenizer(i, padding\u001b[38;5;241m=\u001b[39m\u001b[38;5;28;01mTrue\u001b[39;00m, truncation\u001b[38;5;241m=\u001b[39m\u001b[38;5;28;01mTrue\u001b[39;00m, max_length\u001b[38;5;241m=\u001b[39m\u001b[38;5;241m512\u001b[39m, return_tensors\u001b[38;5;241m=\u001b[39m\u001b[38;5;124m\"\u001b[39m\u001b[38;5;124mpt\u001b[39m\u001b[38;5;124m\"\u001b[39m)\n\u001b[1;32m     13\u001b[0m         inputs \u001b[38;5;241m=\u001b[39m {k:v\u001b[38;5;241m.\u001b[39mto(device) \u001b[38;5;28;01mfor\u001b[39;00m k,v \u001b[38;5;129;01min\u001b[39;00m inputs\u001b[38;5;241m.\u001b[39mitems()}\n",
      "\u001b[0;31mNameError\u001b[0m: name 'tqdm' is not defined"
     ]
    }
   ],
   "source": [
    "languages = ['de', 'en', 'es', 'nl', 'pt', 'ru', 'zh', 'ar', 'uk', 'cs', 'ca']\n",
    "for i in languages:\n",
    "    df = df_main[df_main['language'] == i]\n",
    "    df_test = df[df['split'] == 'test']\n",
    "    df_test_human = df_test[df_test['label'] == 0]\n",
    "    df_test_ai = df_test[df_test['label'] == 1]\n",
    "    print('started evaluating for language:', i)\n",
    "    output_probs_human = []\n",
    "    output_probs_ai = []\n",
    "    with torch.no_grad():\n",
    "        for i  in tqdm(df_test_human['text']):\n",
    "            inputs = tokenizer(i, padding=True, truncation=True, max_length=512, return_tensors=\"pt\")\n",
    "            inputs = {k:v.to(device) for k,v in inputs.items()}\n",
    "            output_prob = F.log_softmax(detector(**inputs).logits,-1)[:,0].exp().tolist()\n",
    "            output_probs_human.append(output_prob)\n",
    "\n",
    "        for i  in tqdm(df_test_ai['text']):\n",
    "            inputs = tokenizer(i, padding=True, truncation=True, max_length=512, return_tensors=\"pt\")\n",
    "            inputs = {k:v.to(device) for k,v in inputs.items()}\n",
    "            output_prob = F.log_softmax(detector(**inputs).logits,-1)[:,0].exp().tolist()\n",
    "            output_probs_ai.append(output_prob)\n",
    "    fpr, tpr, roc_auc = get_roc_metrics(output_probs_human, output_probs_ai)\n",
    "    print('roc_auc:', roc_auc)\n",
    "    print('fpr:', fpr)\n",
    "    print('tpr:', tpr)\n",
    "    \n",
    " "
   ]
  }
 ],
 "metadata": {
  "kernelspec": {
   "display_name": "Python 3",
   "language": "python",
   "name": "python3"
  },
  "language_info": {
   "codemirror_mode": {
    "name": "ipython",
    "version": 3
   },
   "file_extension": ".py",
   "mimetype": "text/x-python",
   "name": "python",
   "nbconvert_exporter": "python",
   "pygments_lexer": "ipython3",
   "version": "3.11.6"
  }
 },
 "nbformat": 4,
 "nbformat_minor": 2
}
