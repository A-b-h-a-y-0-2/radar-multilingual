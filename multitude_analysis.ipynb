{
 "cells": [
  {
   "cell_type": "code",
   "execution_count": 1,
   "metadata": {},
   "outputs": [
    {
     "name": "stderr",
     "output_type": "stream",
     "text": [
      "/home/rtx4090/miniconda3/envs/ADS/lib/python3.11/site-packages/tqdm/auto.py:21: TqdmWarning: IProgress not found. Please update jupyter and ipywidgets. See https://ipywidgets.readthedocs.io/en/stable/user_install.html\n",
      "  from .autonotebook import tqdm as notebook_tqdm\n"
     ]
    }
   ],
   "source": [
    "import pandas as pd\n",
    "from tqdm import tqdm\n",
    "import transformers\n",
    "import torch\n",
    "import torch.nn.functional as F\n",
    "import numpy as np\n",
    "import random"
   ]
  },
  {
   "cell_type": "code",
   "execution_count": 2,
   "metadata": {},
   "outputs": [
    {
     "data": {
      "text/html": [
       "<div>\n",
       "<style scoped>\n",
       "    .dataframe tbody tr th:only-of-type {\n",
       "        vertical-align: middle;\n",
       "    }\n",
       "\n",
       "    .dataframe tbody tr th {\n",
       "        vertical-align: top;\n",
       "    }\n",
       "\n",
       "    .dataframe thead th {\n",
       "        text-align: right;\n",
       "    }\n",
       "</style>\n",
       "<table border=\"1\" class=\"dataframe\">\n",
       "  <thead>\n",
       "    <tr style=\"text-align: right;\">\n",
       "      <th></th>\n",
       "      <th>text</th>\n",
       "      <th>label</th>\n",
       "      <th>multi_label</th>\n",
       "      <th>split</th>\n",
       "      <th>language</th>\n",
       "      <th>length</th>\n",
       "      <th>source</th>\n",
       "    </tr>\n",
       "  </thead>\n",
       "  <tbody>\n",
       "    <tr>\n",
       "      <th>0</th>\n",
       "      <td>Der Ausbruch des Coronavirus hat die Entwicklu...</td>\n",
       "      <td>1</td>\n",
       "      <td>text-davinci-003</td>\n",
       "      <td>test</td>\n",
       "      <td>de</td>\n",
       "      <td>174</td>\n",
       "      <td>MULTITuDE_MassiveSumm_spiegel</td>\n",
       "    </tr>\n",
       "    <tr>\n",
       "      <th>1</th>\n",
       "      <td>Alex Azar was officially sworn in as the U.S. ...</td>\n",
       "      <td>1</td>\n",
       "      <td>text-davinci-003</td>\n",
       "      <td>train</td>\n",
       "      <td>en</td>\n",
       "      <td>57</td>\n",
       "      <td>MULTITuDE_MassiveSumm_voanews</td>\n",
       "    </tr>\n",
       "    <tr>\n",
       "      <th>2</th>\n",
       "      <td>Європейський союз вимагає зупинити розтрату ко...</td>\n",
       "      <td>1</td>\n",
       "      <td>gpt-3.5-turbo</td>\n",
       "      <td>test</td>\n",
       "      <td>uk</td>\n",
       "      <td>105</td>\n",
       "      <td>MULTITuDE_MassiveSumm_interfax</td>\n",
       "    </tr>\n",
       "    <tr>\n",
       "      <th>3</th>\n",
       "      <td>Yesterday, hundreds of Zambian university stud...</td>\n",
       "      <td>1</td>\n",
       "      <td>text-davinci-003</td>\n",
       "      <td>train</td>\n",
       "      <td>en</td>\n",
       "      <td>254</td>\n",
       "      <td>MULTITuDE_MassiveSumm_voanews</td>\n",
       "    </tr>\n",
       "    <tr>\n",
       "      <th>4</th>\n",
       "      <td>In a narrow and highly watched vote, the US Se...</td>\n",
       "      <td>1</td>\n",
       "      <td>gpt-4</td>\n",
       "      <td>train</td>\n",
       "      <td>en</td>\n",
       "      <td>416</td>\n",
       "      <td>MULTITuDE_MassiveSumm_voanews</td>\n",
       "    </tr>\n",
       "  </tbody>\n",
       "</table>\n",
       "</div>"
      ],
      "text/plain": [
       "                                                text  label       multi_label  \\\n",
       "0  Der Ausbruch des Coronavirus hat die Entwicklu...      1  text-davinci-003   \n",
       "1  Alex Azar was officially sworn in as the U.S. ...      1  text-davinci-003   \n",
       "2  Європейський союз вимагає зупинити розтрату ко...      1     gpt-3.5-turbo   \n",
       "3  Yesterday, hundreds of Zambian university stud...      1  text-davinci-003   \n",
       "4  In a narrow and highly watched vote, the US Se...      1             gpt-4   \n",
       "\n",
       "   split language  length                          source  \n",
       "0   test       de     174   MULTITuDE_MassiveSumm_spiegel  \n",
       "1  train       en      57   MULTITuDE_MassiveSumm_voanews  \n",
       "2   test       uk     105  MULTITuDE_MassiveSumm_interfax  \n",
       "3  train       en     254   MULTITuDE_MassiveSumm_voanews  \n",
       "4  train       en     416   MULTITuDE_MassiveSumm_voanews  "
      ]
     },
     "execution_count": 2,
     "metadata": {},
     "output_type": "execute_result"
    }
   ],
   "source": [
    "df_main = pd.read_csv('multitude.csv')\n",
    "df_main.head()"
   ]
  },
  {
   "cell_type": "code",
   "execution_count": 3,
   "metadata": {},
   "outputs": [],
   "source": [
    "from sklearn.metrics import auc,roc_curve\n",
    "def get_roc_metrics(human_preds, ai_preds):\n",
    "    # human_preds is the ai-generated probabiities of human-text\n",
    "    # ai_preds is the ai-generated probabiities of AI-text\n",
    "    if not human_preds or not ai_preds:\n",
    "            # Handle empty arrays to avoid the IndexError\n",
    "            return None    # Rest of your code\n",
    "    fpr, tpr, _ = roc_curve([0] * len(human_preds) + [1] * len(ai_preds), human_preds + ai_preds, pos_label=1)\n",
    "    roc_auc = auc(fpr, tpr)\n",
    "    return fpr.tolist(), tpr.tolist(), float(roc_auc)"
   ]
  },
  {
   "cell_type": "code",
   "execution_count": 9,
   "metadata": {},
   "outputs": [],
   "source": [
    "def accuracy(human_pred, ai_pred):\n",
    "    count_correct_human = 0\n",
    "    count_incorrect_human = 0\n",
    "    count_correct_ai = 0\n",
    "    count_incorrect_ai = 0\n",
    "    for i in human_pred:\n",
    "        if i[0] < 0.5:\n",
    "            count_correct_human+=1\n",
    "        else:\n",
    "            count_incorrect_human +=1\n",
    "    for i in ai_pred:\n",
    "        if i[0] > 0.5:\n",
    "            count_correct_ai +=1\n",
    "        else:\n",
    "            count_incorrect_ai +=1\n",
    "    return  (count_correct_human/len(human_pred)), (count_incorrect_human)/len(human_pred), (count_correct_ai/len(ai_pred)), (count_incorrect_ai)/len(ai_pred)"
   ]
  },
  {
   "cell_type": "markdown",
   "metadata": {},
   "source": [
    "Languages available are : \n",
    "- English (en)\n",
    "- Spanish (es)  \n",
    "- Russian (ru) \n",
    "- Dutch (nl)  \n",
    "- Catalan (ca)   \n",
    "- Czech (cs)  \n",
    "- German (de)   \n",
    "- Chinese (zh) \n",
    "- Portuguese (pt)   \n",
    "- Arabic (ar) \n",
    "- Ukrainian (uk)  \n"
   ]
  },
  {
   "cell_type": "markdown",
   "metadata": {},
   "source": [
    "testing on the test split of every language"
   ]
  },
  {
   "cell_type": "code",
   "execution_count": 10,
   "metadata": {},
   "outputs": [
    {
     "data": {
      "text/plain": [
       "RobertaForSequenceClassification(\n",
       "  (roberta): RobertaModel(\n",
       "    (embeddings): RobertaEmbeddings(\n",
       "      (word_embeddings): Embedding(50265, 1024, padding_idx=1)\n",
       "      (position_embeddings): Embedding(514, 1024, padding_idx=1)\n",
       "      (token_type_embeddings): Embedding(1, 1024)\n",
       "      (LayerNorm): LayerNorm((1024,), eps=1e-05, elementwise_affine=True)\n",
       "      (dropout): Dropout(p=0.1, inplace=False)\n",
       "    )\n",
       "    (encoder): RobertaEncoder(\n",
       "      (layer): ModuleList(\n",
       "        (0-23): 24 x RobertaLayer(\n",
       "          (attention): RobertaAttention(\n",
       "            (self): RobertaSelfAttention(\n",
       "              (query): Linear(in_features=1024, out_features=1024, bias=True)\n",
       "              (key): Linear(in_features=1024, out_features=1024, bias=True)\n",
       "              (value): Linear(in_features=1024, out_features=1024, bias=True)\n",
       "              (dropout): Dropout(p=0.1, inplace=False)\n",
       "            )\n",
       "            (output): RobertaSelfOutput(\n",
       "              (dense): Linear(in_features=1024, out_features=1024, bias=True)\n",
       "              (LayerNorm): LayerNorm((1024,), eps=1e-05, elementwise_affine=True)\n",
       "              (dropout): Dropout(p=0.1, inplace=False)\n",
       "            )\n",
       "          )\n",
       "          (intermediate): RobertaIntermediate(\n",
       "            (dense): Linear(in_features=1024, out_features=4096, bias=True)\n",
       "            (intermediate_act_fn): GELUActivation()\n",
       "          )\n",
       "          (output): RobertaOutput(\n",
       "            (dense): Linear(in_features=4096, out_features=1024, bias=True)\n",
       "            (LayerNorm): LayerNorm((1024,), eps=1e-05, elementwise_affine=True)\n",
       "            (dropout): Dropout(p=0.1, inplace=False)\n",
       "          )\n",
       "        )\n",
       "      )\n",
       "    )\n",
       "  )\n",
       "  (classifier): RobertaClassificationHead(\n",
       "    (dense): Linear(in_features=1024, out_features=1024, bias=True)\n",
       "    (dropout): Dropout(p=0.1, inplace=False)\n",
       "    (out_proj): Linear(in_features=1024, out_features=2, bias=True)\n",
       "  )\n",
       ")"
      ]
     },
     "execution_count": 10,
     "metadata": {},
     "output_type": "execute_result"
    }
   ],
   "source": [
    "\n",
    "device = \"cuda\"# example: cuda:0\n",
    "detector_path_or_id = \"TrustSafeAI/RADAR-Vicuna-7B\"\n",
    "detector = transformers.AutoModelForSequenceClassification.from_pretrained(detector_path_or_id)\n",
    "dtokenizer = transformers.AutoTokenizer.from_pretrained(detector_path_or_id)\n",
    "detector.eval()\n",
    "detector.to(device)"
   ]
  },
  {
   "cell_type": "code",
   "execution_count": 13,
   "metadata": {},
   "outputs": [
    {
     "name": "stdout",
     "output_type": "stream",
     "text": [
      "started evaluating for language: de\n"
     ]
    },
    {
     "name": "stderr",
     "output_type": "stream",
     "text": [
      "100%|██████████| 292/292 [00:03<00:00, 92.23it/s] \n",
      "100%|██████████| 2393/2393 [00:27<00:00, 87.13it/s] \n"
     ]
    },
    {
     "name": "stdout",
     "output_type": "stream",
     "text": [
      "roc_auc: 0.6751097664993216\n",
      "started evaluating for language: en\n"
     ]
    },
    {
     "name": "stderr",
     "output_type": "stream",
     "text": [
      "100%|██████████| 277/277 [00:02<00:00, 96.76it/s] \n",
      "100%|██████████| 2214/2214 [00:24<00:00, 91.00it/s] \n"
     ]
    },
    {
     "name": "stdout",
     "output_type": "stream",
     "text": [
      "roc_auc: 0.8852983475683132\n",
      "started evaluating for language: es\n"
     ]
    },
    {
     "name": "stderr",
     "output_type": "stream",
     "text": [
      "100%|██████████| 284/284 [00:03<00:00, 87.34it/s]\n",
      "100%|██████████| 2392/2392 [00:27<00:00, 86.34it/s]\n"
     ]
    },
    {
     "name": "stdout",
     "output_type": "stream",
     "text": [
      "roc_auc: 0.714208747468086\n",
      "started evaluating for language: nl\n"
     ]
    },
    {
     "name": "stderr",
     "output_type": "stream",
     "text": [
      "100%|██████████| 299/299 [00:03<00:00, 82.57it/s]\n",
      "100%|██████████| 2396/2396 [00:30<00:00, 79.70it/s]\n"
     ]
    },
    {
     "name": "stdout",
     "output_type": "stream",
     "text": [
      "roc_auc: 0.6565359769068849\n",
      "started evaluating for language: pt\n"
     ]
    },
    {
     "name": "stderr",
     "output_type": "stream",
     "text": [
      "100%|██████████| 287/287 [00:03<00:00, 87.06it/s]\n",
      "100%|██████████| 2386/2386 [00:28<00:00, 84.35it/s]\n"
     ]
    },
    {
     "name": "stdout",
     "output_type": "stream",
     "text": [
      "roc_auc: 0.6918909959665995\n",
      "started evaluating for language: ru\n"
     ]
    },
    {
     "name": "stderr",
     "output_type": "stream",
     "text": [
      "100%|██████████| 300/300 [00:04<00:00, 73.35it/s]\n",
      "100%|██████████| 2371/2371 [00:31<00:00, 75.89it/s]\n"
     ]
    },
    {
     "name": "stdout",
     "output_type": "stream",
     "text": [
      "roc_auc: 0.5274525516659638\n",
      "started evaluating for language: zh\n"
     ]
    },
    {
     "name": "stderr",
     "output_type": "stream",
     "text": [
      "100%|██████████| 300/300 [00:02<00:00, 103.53it/s]\n",
      "100%|██████████| 2383/2383 [00:23<00:00, 100.35it/s]\n"
     ]
    },
    {
     "name": "stdout",
     "output_type": "stream",
     "text": [
      "roc_auc: 0.49705972863337533\n",
      "started evaluating for language: ar\n"
     ]
    },
    {
     "name": "stderr",
     "output_type": "stream",
     "text": [
      "100%|██████████| 299/299 [00:03<00:00, 79.40it/s]\n",
      "100%|██████████| 2374/2374 [00:29<00:00, 81.52it/s]\n"
     ]
    },
    {
     "name": "stdout",
     "output_type": "stream",
     "text": [
      "roc_auc: 0.5008875414538211\n",
      "started evaluating for language: uk\n"
     ]
    },
    {
     "name": "stderr",
     "output_type": "stream",
     "text": [
      "100%|██████████| 298/298 [00:04<00:00, 73.43it/s]\n",
      "100%|██████████| 2370/2370 [00:31<00:00, 75.38it/s]\n"
     ]
    },
    {
     "name": "stdout",
     "output_type": "stream",
     "text": [
      "roc_auc: 0.5415951632543257\n",
      "started evaluating for language: cs\n"
     ]
    },
    {
     "name": "stderr",
     "output_type": "stream",
     "text": [
      "100%|██████████| 300/300 [00:03<00:00, 80.89it/s]\n",
      "100%|██████████| 2389/2389 [00:29<00:00, 81.09it/s]\n"
     ]
    },
    {
     "name": "stdout",
     "output_type": "stream",
     "text": [
      "roc_auc: 0.7005776475512767\n",
      "started evaluating for language: ca\n"
     ]
    },
    {
     "name": "stderr",
     "output_type": "stream",
     "text": [
      "100%|██████████| 300/300 [00:03<00:00, 85.74it/s]\n",
      "100%|██████████| 2391/2391 [00:29<00:00, 80.11it/s]"
     ]
    },
    {
     "name": "stdout",
     "output_type": "stream",
     "text": [
      "roc_auc: 0.6443147915795343\n"
     ]
    },
    {
     "name": "stderr",
     "output_type": "stream",
     "text": [
      "\n"
     ]
    }
   ],
   "source": [
    "languages = ['de', 'en', 'es', 'nl', 'pt', 'ru', 'zh', 'ar', 'uk', 'cs', 'ca']\n",
    "results=[]\n",
    "for i in languages:\n",
    "    df = df_main[df_main['language'] == i]\n",
    "    df_test = df[df['split'] == 'test']\n",
    "    df_test_human = df_test[df_test['label'] == 0]\n",
    "    df_test_ai = df_test[df_test['label'] == 1]\n",
    "    print('started evaluating for language:', i)\n",
    "    output_probs_human = []\n",
    "    output_probs_ai = []\n",
    "   # results = []\n",
    "    with torch.no_grad():\n",
    "        for i  in tqdm(df_test_human['text']):\n",
    "            inputs = dtokenizer(i, padding=True, truncation=True, max_length=512, return_tensors=\"pt\")\n",
    "            inputs = {k:v.to(device) for k,v in inputs.items()}\n",
    "            output_prob = F.log_softmax(detector(**inputs).logits,-1)[:,0].exp().tolist()\n",
    "            output_probs_human.append(output_prob)\n",
    "\n",
    "        for i  in tqdm(df_test_ai['text']):\n",
    "            inputs = dtokenizer(i, padding=True, truncation=True, max_length=512, return_tensors=\"pt\")\n",
    "            inputs = {k:v.to(device) for k,v in inputs.items()}\n",
    "            output_prob = F.log_softmax(detector(**inputs).logits,-1)[:,0].exp().tolist()\n",
    "            output_probs_ai.append(output_prob)\n",
    "    fpr, tpr, roc_auc = get_roc_metrics(output_probs_human, output_probs_ai)\n",
    "    tnr, fpr, tpr, fnr  = accuracy(output_probs_human, output_probs_ai)\n",
    "    res  = [i, roc_auc, tpr, fnr, tnr, fpr ]\n",
    "    results.append(res)    \n",
    "    print('roc_auc:', roc_auc)\n",
    "\n",
    "    \n",
    " "
   ]
  },
  {
   "cell_type": "code",
   "execution_count": 15,
   "metadata": {},
   "outputs": [
    {
     "data": {
      "text/plain": [
       "11"
      ]
     },
     "execution_count": 15,
     "metadata": {},
     "output_type": "execute_result"
    }
   ],
   "source": [
    "len(results)"
   ]
  },
  {
   "cell_type": "code",
   "execution_count": 24,
   "metadata": {},
   "outputs": [],
   "source": [
    "count =0\n",
    "import csv\n",
    "with open('multi.csv', 'w',newline='\\n') as f:\n",
    "        writer = csv.writer(f)\n",
    "        for res in results:\n",
    "            writer.writerow(['language ',\"aucroc\",'tpr','fnr','tnr','fpr'])\n",
    "            writer.writerow([languages[count],res[0],res[1],res[2],res[4]])\n",
    "\n",
    "            count+=1"
   ]
  },
  {
   "cell_type": "markdown",
   "metadata": {},
   "source": [
    "# Performing Translations"
   ]
  },
  {
   "cell_type": "code",
   "execution_count": null,
   "metadata": {},
   "outputs": [],
   "source": [
    "anguages = ['de', 'es', 'nl', 'ru', 'zh', 'ar', 'uk', 'cs', 'ca']\n",
    "results  = []\n",
    "for lang in languages:\n",
    "    print('started translating',lang)\n",
    "    tokenizer = transformers.AutoTokenizer.from_pretrained(f\"Helsinki-NLP/opus-mt-{lang}-en\")\n",
    "    model = transformers.AutoModelForSeq2SeqLM.from_pretrained(f\"Helsinki-NLP/opus-mt-{lang}-en\")\n",
    "    model.eval()\n",
    "    model.to(torch.device('cuda'))\n",
    "    df = df_main[df_main['language'] == lang]\n",
    "    df_test = df[df['split'] == 'test']\n",
    "    df_test_translated = df_test.copy()\n",
    "    df_test = df_test.reset_index()\n",
    "    df_test_translated = df_test_translated.reset_index()\n",
    "    print('model loaded')\n",
    "    for j in tqdm(range(len(df_test['text']))):\n",
    "        text = df_test['text'][j]\n",
    "        text = str(text)\n",
    "        text = text[:1024]\n",
    "        inp = text\n",
    "        input_ids = tokenizer(inp, return_tensors=\"pt\").input_ids\n",
    "        if len(input_ids[0]) < 512:\n",
    "            input_ids = input_ids.to(torch.device('cuda'))\n",
    "            outputs = model.generate(input_ids=input_ids, num_beams=5, num_return_sequences=1)\n",
    "            text_tr = tokenizer.batch_decode(outputs, skip_special_tokens=True)\n",
    "            del input_ids\n",
    "            del outputs\n",
    "            df_test_translated.loc[[j], 'text'] = text_tr\n",
    "        else:\n",
    "             df_test_translated.loc[[j], 'text'] = 'NaN'\n",
    "        \n",
    "    del tokenizer\n",
    "    del model\n",
    "    df_test_human = df_test_translated[df_test_translated['label'] == 0]\n",
    "    df_test_ai = df_test_translated[df_test_translated['label'] == 1]\n",
    "    print('started evaluating for language:', lang, ' after translating to english')\n",
    "    output_probs_human = []\n",
    "    output_probs_ai = []\n",
    "   # results = []\n",
    "    with torch.no_grad():\n",
    "        for i  in tqdm(df_test_human['text']):\n",
    "            inputs = dtokenizer(i, padding=True, truncation=True, max_length=512, return_tensors=\"pt\")\n",
    "            inputs = {k:v.to(device) for k,v in inputs.items()}\n",
    "            output_prob = F.log_softmax(detector(**inputs).logits,-1)[:,0].exp().tolist()\n",
    "            output_probs_human.append(output_prob)\n",
    "\n",
    "        for i  in tqdm(df_test_ai['text']):\n",
    "            inputs = dtokenizer(i, padding=True, truncation=True, max_length=512, return_tensors=\"pt\")\n",
    "            inputs = {k:v.to(device) for k,v in inputs.items()}\n",
    "            output_prob = F.log_softmax(detector(**inputs).logits,-1)[:,0].exp().tolist()\n",
    "            output_probs_ai.append(output_prob)\n",
    "    fpr, tpr, roc_auc = get_roc_metrics(output_probs_human, output_probs_ai)\n",
    "    tnr, fpr, tpr, fnr  = accuracy(output_probs_human, output_probs_ai)\n",
    "    res  = [lang, roc_auc, tpr, fnr, tnr, fpr ]\n",
    "    results.append(res)    \n",
    "    print('roc_auc:', roc_auc)\n",
    "\n",
    "    with open('multi_tr.csv', 'a+',newline='\\n') as f:\n",
    "            writer = csv.writer(f)\n",
    "            writer.writerow([res[0],res[1],res[2],res[3],res[4],res[5]])\n",
    "\n"
   ]
  },
  {
   "cell_type": "markdown",
   "metadata": {},
   "source": [
    "Translating portugeese with mbart50-m2en"
   ]
  },
  {
   "cell_type": "code",
   "execution_count": null,
   "metadata": {},
   "outputs": [],
   "source": [
    "from easynmt import EasyNMT\n",
    "model = EasyNMT('mbart50_m2en')\n"
   ]
  },
  {
   "cell_type": "code",
   "execution_count": null,
   "metadata": {},
   "outputs": [],
   "source": [
    "df = df_main[df_main['language'] == 'pt']\n",
    "df_test = df[df['split'] == 'test']\n",
    "df_test_translated = df_test.copy()\n",
    "df_test = df_test.reset_index()\n",
    "df_test_translated = df_test_translated.reset_index()"
   ]
  },
  {
   "cell_type": "code",
   "execution_count": null,
   "metadata": {},
   "outputs": [],
   "source": [
    "for j in tqdm(range(len(df_test['text']))):\n",
    "        text = df_test['text'][j]\n",
    "        text = str(text)\n",
    "        text = text[:1024]\n",
    "        text_tr = model.translate(text, target_lang='en',source_lang='pt')\n",
    "        df_test_translated.loc[[j], 'text'] = text_tr"
   ]
  },
  {
   "cell_type": "code",
   "execution_count": null,
   "metadata": {},
   "outputs": [],
   "source": [
    "df_test_human = df_test_translated[df_test_translated['label'] == 0]\n",
    "df_test_ai = df_test_translated[df_test_translated['label'] == 1]\n",
    "print('started evaluating for portuguese after translating to english')\n",
    "output_probs_human = []\n",
    "output_probs_ai = []\n",
    "   # results = []\n",
    "with torch.no_grad():\n",
    "        for i  in tqdm(df_test_human['text']):\n",
    "            inputs = dtokenizer(i, padding=True, truncation=True, max_length=512, return_tensors=\"pt\")\n",
    "            inputs = {k:v.to(device) for k,v in inputs.items()}\n",
    "            output_prob = F.log_softmax(detector(**inputs).logits,-1)[:,0].exp().tolist()\n",
    "            output_probs_human.append(output_prob)\n",
    "\n",
    "        for i  in tqdm(df_test_ai['text']):\n",
    "            inputs = dtokenizer(i, padding=True, truncation=True, max_length=512, return_tensors=\"pt\")\n",
    "            inputs = {k:v.to(device) for k,v in inputs.items()}\n",
    "            output_prob = F.log_softmax(detector(**inputs).logits,-1)[:,0].exp().tolist()\n",
    "            output_probs_ai.append(output_prob)\n",
    "fpr, tpr, roc_auc = get_roc_metrics(output_probs_human, output_probs_ai)\n",
    "tnr, fpr, tpr, fnr  = accuracy(output_probs_human, output_probs_ai)\n",
    "res  = ['pt', roc_auc, tpr, fnr, tnr, fpr ]"
   ]
  },
  {
   "cell_type": "code",
   "execution_count": null,
   "metadata": {},
   "outputs": [],
   "source": [
    "with open('multi_tr.csv', 'a+',newline='\\n') as f:\n",
    "            writer = csv.writer(f)\n",
    "            writer.writerow([res[0],res[1],res[2],res[3],res[4],res[5]])"
   ]
  }
 ],
 "metadata": {
  "kernelspec": {
   "display_name": "Python 3",
   "language": "python",
   "name": "python3"
  },
  "language_info": {
   "codemirror_mode": {
    "name": "ipython",
    "version": 3
   },
   "file_extension": ".py",
   "mimetype": "text/x-python",
   "name": "python",
   "nbconvert_exporter": "python",
   "pygments_lexer": "ipython3",
   "version": "3.11.8"
  }
 },
 "nbformat": 4,
 "nbformat_minor": 2
}
