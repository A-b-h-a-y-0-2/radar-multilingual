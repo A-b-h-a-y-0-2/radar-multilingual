{
 "cells": [
  {
   "cell_type": "code",
   "execution_count": 2,
   "metadata": {},
   "outputs": [],
   "source": [
    "import csv"
   ]
  },
  {
   "cell_type": "code",
   "execution_count": 3,
   "metadata": {},
   "outputs": [],
   "source": [
    "ai_pred_label_fr =[]\n",
    "ai_pred_value_fr = []\n",
    "human_pred_label_fr = []\n",
    "human_pred_value_fr =[]\n",
    "ai_pred_label_fr_tr =[]\n",
    "ai_pred_value_fr_tr = []\n",
    "human_pred_label_fr_tr = []\n",
    "human_pred_value_fr_tr =[]\n",
    "\n",
    "with open('Roberta_ai_fr.csv', 'r') as f:\n",
    "    reader = csv.reader(f, delimiter=',')\n",
    "    for line in reader:\n",
    "        ai_pred_label_fr.append(line[0])\n",
    "        ai_pred_value_fr.append(line[1])\n",
    "with open('Roberta_ai_fr_tr.csv', 'r') as f:\n",
    "    reader = csv.reader(f, delimiter=',')\n",
    "    for line in reader:\n",
    "        ai_pred_label_fr_tr.append(line[0])\n",
    "        ai_pred_value_fr_tr.append(line[1])\n",
    "with open('Roberta_human_fr.csv', 'r') as f:\n",
    "    reader = csv.reader(f, delimiter=',')\n",
    "    for line in reader:\n",
    "        human_pred_label_fr.append(line[0])\n",
    "        human_pred_value_fr.append(line[1])\n",
    "with open('Roberta_human_fr_tr.csv', 'r') as f:\n",
    "    reader = csv.reader(f, delimiter=',')\n",
    "    for line in reader:\n",
    "        human_pred_label_fr_tr.append(line[0])\n",
    "        human_pred_value_fr_tr.append(line[1])"
   ]
  },
  {
   "cell_type": "code",
   "execution_count": 14,
   "metadata": {},
   "outputs": [],
   "source": [
    "ai_pred_label_de =[]\n",
    "ai_pred_value_de = []\n",
    "human_pred_label_de = []\n",
    "human_pred_value_de =[]\n",
    "ai_pred_label_de_tr =[]\n",
    "ai_pred_value_de_tr = []\n",
    "human_pred_label_de_tr = []\n",
    "human_pred_value_de_tr =[]\n",
    "\n",
    "with open('Roberta_ai_de.csv', 'r') as f:\n",
    "    reader = csv.reader(f, delimiter=',')\n",
    "    for line in reader:\n",
    "        ai_pred_label_de.append(line[0])\n",
    "        ai_pred_value_de.append(line[1])\n",
    "with open('Roberta_ai_de_tr.csv', 'r') as f:\n",
    "    reader = csv.reader(f, delimiter=',')\n",
    "    for line in reader:\n",
    "        ai_pred_label_de_tr.append(line[0])\n",
    "        ai_pred_value_de_tr.append(line[1])\n",
    "with open('Roberta_human_de.csv', 'r') as f:\n",
    "    reader = csv.reader(f, delimiter=',')\n",
    "    for line in reader:\n",
    "        human_pred_label_de.append(line[0])\n",
    "        human_pred_value_de.append(line[1])\n",
    "with open('Roberta_human_de_tr.csv', 'r') as f:\n",
    "    reader = csv.reader(f, delimiter=',')\n",
    "    for line in reader:\n",
    "        human_pred_label_de_tr.append(line[0])\n",
    "        human_pred_value_de_tr.append(line[1])"
   ]
  },
  {
   "cell_type": "code",
   "execution_count": 30,
   "metadata": {},
   "outputs": [],
   "source": [
    "ai_pred_label_it =[]\n",
    "ai_pred_value_it = []\n",
    "human_pred_label_it = []\n",
    "human_pred_value_it =[]\n",
    "ai_pred_label_it_tr =[]\n",
    "ai_pred_value_it_tr = []\n",
    "human_pred_label_it_tr = []\n",
    "human_pred_value_it_tr =[]\n",
    "\n",
    "with open('Roberta_ai_it.csv', 'r') as f:\n",
    "    reader = csv.reader(f, delimiter=',')\n",
    "    for line in reader:\n",
    "        ai_pred_label_it.append(line[0])\n",
    "        ai_pred_value_it.append(line[1])\n",
    "with open('Roberta_ai_it_tr.csv', 'r') as f:\n",
    "    reader = csv.reader(f, delimiter=',')\n",
    "    for line in reader:\n",
    "        ai_pred_label_it_tr.append(line[0])\n",
    "        ai_pred_value_it_tr.append(line[1])\n",
    "with open('Roberta_human_it.csv', 'r') as f:\n",
    "    reader = csv.reader(f, delimiter=',')\n",
    "    for line in reader:\n",
    "        human_pred_label_it.append(line[0])\n",
    "        human_pred_value_it.append(line[1])\n",
    "with open('Roberta_human_it_tr.csv', 'r') as f:\n",
    "    reader = csv.reader(f, delimiter=',')\n",
    "    for line in reader:\n",
    "        human_pred_label_it_tr.append(line[0])\n",
    "        human_pred_value_it_tr.append(line[1])"
   ]
  },
  {
   "cell_type": "code",
   "execution_count": 31,
   "metadata": {},
   "outputs": [],
   "source": [
    "def accuracry_human(label, value):\n",
    "    correct = 0\n",
    "    incorrect = 0\n",
    "    not_sure = 0\n",
    "    for i in range(len(label)):\n",
    "        if label[i] == 'LABEL_0' and float(value[i]) > 0.5:\n",
    "            correct += 1\n",
    "        elif label[i] == 'LABEL_1' and float(value[i]) > 0.5:\n",
    "            incorrect += 1\n",
    "        else:\n",
    "            not_sure += 1\n",
    "    print(\"True Negative rate :: \", correct/len(label))\n",
    "    print(\"False Negative rate :: \", incorrect/len(label))\n",
    "    print(\"Not confident :: \", not_sure/len(label))"
   ]
  },
  {
   "cell_type": "code",
   "execution_count": 32,
   "metadata": {},
   "outputs": [],
   "source": [
    "def accuracry_ai(label, value):\n",
    "    correct = 0\n",
    "    incorrect = 0\n",
    "    not_sure = 0\n",
    "    for i in range(len(label)):\n",
    "        if label[i] == 'LABEL_1' and float(value[i]) > 0.5:\n",
    "            correct += 1\n",
    "        elif label[i] == 'LABEL_0' and float(value[i]) > 0.5:\n",
    "            incorrect += 1\n",
    "        else:\n",
    "            not_sure += 1\n",
    "    print(\"True Positive rate :: \", correct/len(label))\n",
    "    print(\"False Positive rate :: \", incorrect/len(label))\n",
    "    print(\"Not confident :: \", not_sure/len(label))"
   ]
  },
  {
   "cell_type": "markdown",
   "metadata": {},
   "source": [
    "## Results over French"
   ]
  },
  {
   "cell_type": "code",
   "execution_count": 19,
   "metadata": {},
   "outputs": [
    {
     "name": "stdout",
     "output_type": "stream",
     "text": [
      "True Negative rate ::  0.987\n",
      "False Negative rate ::  0.013\n",
      "Not confident ::  0.0\n"
     ]
    }
   ],
   "source": [
    "accuracry_ai(ai_pred_label_fr, ai_pred_value_fr)"
   ]
  },
  {
   "cell_type": "code",
   "execution_count": 20,
   "metadata": {},
   "outputs": [
    {
     "name": "stdout",
     "output_type": "stream",
     "text": [
      "True Negative rate ::  0.466\n",
      "False Negative rate ::  0.534\n",
      "Not confident ::  0.0\n"
     ]
    }
   ],
   "source": [
    "accuracry_ai(ai_pred_label_fr_tr, ai_pred_value_fr_tr)"
   ]
  },
  {
   "cell_type": "code",
   "execution_count": 21,
   "metadata": {},
   "outputs": [
    {
     "name": "stdout",
     "output_type": "stream",
     "text": [
      "True Positive rate ::  0.003\n",
      "False Positive rate ::  0.997\n",
      "Not confident ::  0.0\n"
     ]
    }
   ],
   "source": [
    "accuracry_human(human_pred_label_fr, human_pred_value_fr)"
   ]
  },
  {
   "cell_type": "code",
   "execution_count": 22,
   "metadata": {},
   "outputs": [
    {
     "name": "stdout",
     "output_type": "stream",
     "text": [
      "True Positive rate ::  0.233\n",
      "False Positive rate ::  0.767\n",
      "Not confident ::  0.0\n"
     ]
    }
   ],
   "source": [
    "accuracry_human(human_pred_label_fr_tr, human_pred_value_fr_tr)"
   ]
  },
  {
   "cell_type": "markdown",
   "metadata": {},
   "source": [
    "## Results over german"
   ]
  },
  {
   "cell_type": "code",
   "execution_count": 23,
   "metadata": {},
   "outputs": [
    {
     "name": "stdout",
     "output_type": "stream",
     "text": [
      "True Negative rate ::  0.987\n",
      "False Negative rate ::  0.013\n",
      "Not confident ::  0.0\n"
     ]
    }
   ],
   "source": [
    "accuracry_ai(ai_pred_label_de, ai_pred_value_de)"
   ]
  },
  {
   "cell_type": "code",
   "execution_count": 24,
   "metadata": {},
   "outputs": [
    {
     "name": "stdout",
     "output_type": "stream",
     "text": [
      "True Negative rate ::  0.438\n",
      "False Negative rate ::  0.562\n",
      "Not confident ::  0.0\n"
     ]
    }
   ],
   "source": [
    "accuracry_ai(ai_pred_label_de_tr, ai_pred_value_de_tr)"
   ]
  },
  {
   "cell_type": "code",
   "execution_count": 25,
   "metadata": {},
   "outputs": [
    {
     "name": "stdout",
     "output_type": "stream",
     "text": [
      "True Positive rate ::  0.006\n",
      "False Positive rate ::  0.994\n",
      "Not confident ::  0.0\n"
     ]
    }
   ],
   "source": [
    "accuracry_human(human_pred_label_de, human_pred_value_de)"
   ]
  },
  {
   "cell_type": "code",
   "execution_count": 29,
   "metadata": {},
   "outputs": [
    {
     "name": "stdout",
     "output_type": "stream",
     "text": [
      "True Positive rate ::  0.237\n",
      "False Positive rate ::  0.763\n",
      "Not confident ::  0.0\n"
     ]
    }
   ],
   "source": [
    "accuracry_human(human_pred_label_de_tr, human_pred_value_de_tr)"
   ]
  },
  {
   "cell_type": "markdown",
   "metadata": {},
   "source": [
    "## Results over Italian"
   ]
  },
  {
   "cell_type": "code",
   "execution_count": 33,
   "metadata": {},
   "outputs": [
    {
     "name": "stdout",
     "output_type": "stream",
     "text": [
      "True Positive rate ::  0.002\n",
      "False Positive rate ::  0.998\n",
      "Not confident ::  0.0\n"
     ]
    }
   ],
   "source": [
    "accuracry_human(human_pred_label_it, human_pred_value_it)"
   ]
  },
  {
   "cell_type": "code",
   "execution_count": 34,
   "metadata": {},
   "outputs": [
    {
     "name": "stdout",
     "output_type": "stream",
     "text": [
      "True Positive rate ::  0.185\n",
      "False Positive rate ::  0.815\n",
      "Not confident ::  0.0\n"
     ]
    }
   ],
   "source": [
    "accuracry_human(human_pred_label_it_tr, human_pred_value_it_tr)"
   ]
  },
  {
   "cell_type": "code",
   "execution_count": 35,
   "metadata": {},
   "outputs": [
    {
     "name": "stdout",
     "output_type": "stream",
     "text": [
      "True Negative rate ::  0.983016983016983\n",
      "False Negative rate ::  0.016983016983016984\n",
      "Not confident ::  0.0\n"
     ]
    }
   ],
   "source": [
    "accuracry_ai(ai_pred_label_it, ai_pred_value_it)"
   ]
  },
  {
   "cell_type": "code",
   "execution_count": 37,
   "metadata": {},
   "outputs": [
    {
     "name": "stdout",
     "output_type": "stream",
     "text": [
      "True Negative rate ::  0.5094905094905094\n",
      "False Negative rate ::  0.4905094905094905\n",
      "Not confident ::  0.0\n"
     ]
    }
   ],
   "source": [
    "accuracry_ai(ai_pred_label_it_tr, ai_pred_value_it_tr)"
   ]
  }
 ],
 "metadata": {
  "kernelspec": {
   "display_name": "ML",
   "language": "python",
   "name": "python3"
  },
  "language_info": {
   "codemirror_mode": {
    "name": "ipython",
    "version": 3
   },
   "file_extension": ".py",
   "mimetype": "text/x-python",
   "name": "python",
   "nbconvert_exporter": "python",
   "pygments_lexer": "ipython3",
   "version": "3.11.8"
  }
 },
 "nbformat": 4,
 "nbformat_minor": 2
}
