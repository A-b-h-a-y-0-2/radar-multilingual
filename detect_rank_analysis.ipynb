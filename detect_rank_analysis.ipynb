{
 "cells": [
  {
   "cell_type": "code",
   "execution_count": 3,
   "metadata": {},
   "outputs": [],
   "source": [
    "import csv"
   ]
  },
  {
   "cell_type": "code",
   "execution_count": 13,
   "metadata": {},
   "outputs": [],
   "source": [
    "ai_pred_label_fr =[]\n",
    "human_pred_label_fr = []\n",
    "ai_pred_label_fr_tr =[]\n",
    "human_pred_label_fr_tr = []\n",
    "\n",
    "with open('logrank_ai_fr.csv', 'r') as f:\n",
    "    reader = csv.reader(f, delimiter=',')\n",
    "    for line in reader:\n",
    "        ai_pred_label_fr.append(float(line[0]))\n",
    "with open('logrank_ai_fr_tr.csv', 'r') as f:\n",
    "    reader = csv.reader(f, delimiter=',')\n",
    "    for line in reader:\n",
    "        ai_pred_label_fr_tr.append(float(line[0]))\n",
    "with open('logrank_human_fr.csv', 'r') as f:\n",
    "    reader = csv.reader(f, delimiter=',')\n",
    "    for line in reader:\n",
    "        human_pred_label_fr.append(float(line[0]))\n",
    "with open('logrank_human_fr_tr.csv', 'r') as f:\n",
    "    reader = csv.reader(f, delimiter=',')\n",
    "    for line in reader:\n",
    "        human_pred_label_fr_tr.append(float(line[0]))"
   ]
  },
  {
   "cell_type": "code",
   "execution_count": 14,
   "metadata": {},
   "outputs": [],
   "source": [
    "ai_pred_label_de =[]\n",
    "human_pred_label_de = []\n",
    "ai_pred_label_de_tr =[]\n",
    "human_pred_label_de_tr = []\n",
    "\n",
    "with open('logrank_ai_de.csv', 'r') as f:\n",
    "    reader = csv.reader(f, delimiter=',')\n",
    "    for line in reader:\n",
    "        ai_pred_label_de.append(float(line[0]))\n",
    "with open('logrank_ai_de_tr.csv', 'r') as f:\n",
    "    reader = csv.reader(f, delimiter=',')\n",
    "    for line in reader:\n",
    "        ai_pred_label_de_tr.append(float(line[0]))\n",
    "with open('logrank_human_de.csv', 'r') as f:\n",
    "    reader = csv.reader(f, delimiter=',')\n",
    "    for line in reader:\n",
    "        human_pred_label_de.append(float(line[0]))\n",
    "\n",
    "with open('logrank_human_de_tr.csv', 'r') as f:\n",
    "    reader = csv.reader(f, delimiter=',')\n",
    "    for line in reader:\n",
    "        human_pred_label_de_tr.append(float(line[0]))\n"
   ]
  },
  {
   "cell_type": "code",
   "execution_count": 15,
   "metadata": {},
   "outputs": [],
   "source": [
    "ai_pred_label_it =[]\n",
    "human_pred_label_it = []\n",
    "ai_pred_label_it_tr =[]\n",
    "human_pred_label_it_tr = []\n",
    "\n",
    "with open('logrank_ai_it.csv', 'r') as f:\n",
    "    reader = csv.reader(f, delimiter=',')\n",
    "    for line in reader:\n",
    "        ai_pred_label_it.append(float(line[0]))\n",
    "with open('logrank_ai_it_tr.csv', 'r') as f:\n",
    "    reader = csv.reader(f, delimiter=',')\n",
    "    for line in reader:\n",
    "        ai_pred_label_it_tr.append(float(line[0]))\n",
    "with open('logrank_human_it.csv', 'r') as f:\n",
    "    reader = csv.reader(f, delimiter=',')\n",
    "    for line in reader:\n",
    "        human_pred_label_it.append(float(line[0]))\n",
    "with open('logrank_human_it_tr.csv', 'r') as f:\n",
    "    reader = csv.reader(f, delimiter=',')\n",
    "    for line in reader:\n",
    "        human_pred_label_it_tr.append(float(line[0]))"
   ]
  },
  {
   "cell_type": "code",
   "execution_count": 10,
   "metadata": {},
   "outputs": [],
   "source": [
    "def accuracy_ai(predictions):\n",
    "    correct = 0\n",
    "    incorrect = 0\n",
    "    not_sure = 0\n",
    "    for pred in predictions:\n",
    "        if pred < 2.00:\n",
    "            correct += 1\n",
    "        elif pred > 2.1:\n",
    "            incorrect += 1\n",
    "        else:\n",
    "            not_sure += 1\n",
    "    print(\"True Negative rate :: \", correct/len(predictions))\n",
    "    print(\"False Negative rate :: \", incorrect/len(predictions))\n",
    "    print(\"Not confident :: \", not_sure/len(predictions))"
   ]
  },
  {
   "cell_type": "code",
   "execution_count": 11,
   "metadata": {},
   "outputs": [],
   "source": [
    "def accuracy_human(predictions):\n",
    "    correct = 0\n",
    "    incorrect = 0\n",
    "    not_sure = 0\n",
    "    for pred in predictions:\n",
    "        if pred > 2.00:\n",
    "            correct += 1\n",
    "        elif pred < 1.9:\n",
    "            incorrect += 1\n",
    "        else:\n",
    "            not_sure += 1\n",
    "    print(\"True Positive rate :: \", correct/len(predictions))\n",
    "    print(\"False Positive rate :: \", incorrect/len(predictions))\n",
    "    print(\"Not confident :: \", not_sure/len(predictions))"
   ]
  },
  {
   "cell_type": "markdown",
   "metadata": {},
   "source": [
    "## Results over French"
   ]
  },
  {
   "cell_type": "code",
   "execution_count": 16,
   "metadata": {},
   "outputs": [
    {
     "name": "stdout",
     "output_type": "stream",
     "text": [
      "True Negative rate ::  0.642\n",
      "False Negative rate ::  0.307\n",
      "Not confident ::  0.051\n"
     ]
    }
   ],
   "source": [
    "accuracy_ai(ai_pred_label_fr)\n"
   ]
  },
  {
   "cell_type": "code",
   "execution_count": 17,
   "metadata": {},
   "outputs": [
    {
     "name": "stdout",
     "output_type": "stream",
     "text": [
      "True Negative rate ::  0.912\n",
      "False Negative rate ::  0.073\n",
      "Not confident ::  0.015\n"
     ]
    }
   ],
   "source": [
    "accuracy_ai(ai_pred_label_fr_tr)"
   ]
  },
  {
   "cell_type": "code",
   "execution_count": 18,
   "metadata": {},
   "outputs": [
    {
     "name": "stdout",
     "output_type": "stream",
     "text": [
      "True Positive rate ::  0.578\n",
      "False Positive rate ::  0.243\n",
      "Not confident ::  0.179\n"
     ]
    }
   ],
   "source": [
    "accuracy_human(human_pred_label_fr)"
   ]
  },
  {
   "cell_type": "code",
   "execution_count": 19,
   "metadata": {},
   "outputs": [
    {
     "name": "stdout",
     "output_type": "stream",
     "text": [
      "True Positive rate ::  0.298\n",
      "False Positive rate ::  0.587\n",
      "Not confident ::  0.115\n"
     ]
    }
   ],
   "source": [
    "accuracy_human(human_pred_label_fr_tr)"
   ]
  },
  {
   "cell_type": "markdown",
   "metadata": {},
   "source": [
    "### Results over German"
   ]
  },
  {
   "cell_type": "code",
   "execution_count": 20,
   "metadata": {},
   "outputs": [
    {
     "name": "stdout",
     "output_type": "stream",
     "text": [
      "True Negative rate ::  0.627\n",
      "False Negative rate ::  0.319\n",
      "Not confident ::  0.054\n"
     ]
    }
   ],
   "source": [
    "accuracy_ai(ai_pred_label_de)"
   ]
  },
  {
   "cell_type": "code",
   "execution_count": 21,
   "metadata": {},
   "outputs": [
    {
     "name": "stdout",
     "output_type": "stream",
     "text": [
      "True Negative rate ::  0.886\n",
      "False Negative rate ::  0.098\n",
      "Not confident ::  0.016\n"
     ]
    }
   ],
   "source": [
    "accuracy_ai(ai_pred_label_de_tr)"
   ]
  },
  {
   "cell_type": "code",
   "execution_count": 22,
   "metadata": {},
   "outputs": [
    {
     "name": "stdout",
     "output_type": "stream",
     "text": [
      "True Positive rate ::  0.654\n",
      "False Positive rate ::  0.218\n",
      "Not confident ::  0.128\n"
     ]
    }
   ],
   "source": [
    "accuracy_human(human_pred_label_de)"
   ]
  },
  {
   "cell_type": "code",
   "execution_count": 23,
   "metadata": {},
   "outputs": [
    {
     "name": "stdout",
     "output_type": "stream",
     "text": [
      "True Positive rate ::  0.351\n",
      "False Positive rate ::  0.563\n",
      "Not confident ::  0.086\n"
     ]
    }
   ],
   "source": [
    "accuracy_human(human_pred_label_de_tr)"
   ]
  },
  {
   "cell_type": "markdown",
   "metadata": {},
   "source": [
    "## Results over Italian\n"
   ]
  },
  {
   "cell_type": "code",
   "execution_count": 24,
   "metadata": {},
   "outputs": [
    {
     "name": "stdout",
     "output_type": "stream",
     "text": [
      "True Negative rate ::  0.36163836163836166\n",
      "False Negative rate ::  0.5794205794205795\n",
      "Not confident ::  0.058941058941058944\n"
     ]
    }
   ],
   "source": [
    "accuracy_ai(ai_pred_label_it)"
   ]
  },
  {
   "cell_type": "code",
   "execution_count": 25,
   "metadata": {},
   "outputs": [
    {
     "name": "stdout",
     "output_type": "stream",
     "text": [
      "True Negative rate ::  0.8511488511488512\n",
      "False Negative rate ::  0.12287712287712288\n",
      "Not confident ::  0.025974025974025976\n"
     ]
    }
   ],
   "source": [
    "accuracy_ai(ai_pred_label_it_tr)"
   ]
  },
  {
   "cell_type": "code",
   "execution_count": 26,
   "metadata": {},
   "outputs": [
    {
     "name": "stdout",
     "output_type": "stream",
     "text": [
      "True Positive rate ::  0.969\n",
      "False Positive rate ::  0.018\n",
      "Not confident ::  0.013\n"
     ]
    }
   ],
   "source": [
    "accuracy_human(human_pred_label_it)"
   ]
  },
  {
   "cell_type": "code",
   "execution_count": 27,
   "metadata": {},
   "outputs": [
    {
     "name": "stdout",
     "output_type": "stream",
     "text": [
      "True Positive rate ::  0.43\n",
      "False Positive rate ::  0.48\n",
      "Not confident ::  0.09\n"
     ]
    }
   ],
   "source": [
    "accuracy_human(human_pred_label_it_tr)"
   ]
  }
 ],
 "metadata": {
  "kernelspec": {
   "display_name": "ML",
   "language": "python",
   "name": "python3"
  },
  "language_info": {
   "codemirror_mode": {
    "name": "ipython",
    "version": 3
   },
   "file_extension": ".py",
   "mimetype": "text/x-python",
   "name": "python",
   "nbconvert_exporter": "python",
   "pygments_lexer": "ipython3",
   "version": "3.11.8"
  }
 },
 "nbformat": 4,
 "nbformat_minor": 2
}
